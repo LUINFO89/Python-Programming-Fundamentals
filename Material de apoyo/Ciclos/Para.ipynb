{
  "nbformat": 4,
  "nbformat_minor": 0,
  "metadata": {
    "colab": {
      "name": "Para.ipynb",
      "provenance": [],
      "collapsed_sections": []
    },
    "kernelspec": {
      "name": "python3",
      "display_name": "Python 3"
    },
    "language_info": {
      "name": "python"
    }
  },
  "cells": [
    {
      "cell_type": "code",
      "metadata": {
        "id": "3HyjCqll39IE",
        "colab": {
          "base_uri": "https://localhost:8080/",
          "height": 188
        },
        "outputId": "0534f23d-d52d-4e38-8bed-dc5521c5985d"
      },
      "source": [
        "for i in range(1,11,1):# 0- [n-1]\n",
        "  print(i, \"Hola\")"
      ],
      "execution_count": null,
      "outputs": [
        {
          "output_type": "stream",
          "text": [
            "1 Hola\n",
            "2 Hola\n",
            "3 Hola\n",
            "4 Hola\n",
            "5 Hola\n",
            "6 Hola\n",
            "7 Hola\n",
            "8 Hola\n",
            "9 Hola\n",
            "10 Hola\n"
          ],
          "name": "stdout"
        }
      ]
    },
    {
      "cell_type": "code",
      "metadata": {
        "id": "kfm3Cq1l5IPZ",
        "colab": {
          "base_uri": "https://localhost:8080/",
          "height": 188
        },
        "outputId": "d087f9aa-e286-46b7-9a8d-ed9fdacdfce4"
      },
      "source": [
        "for i in range(1,11):# 0- [n-1]\n",
        "  print(i, \"Hola\")"
      ],
      "execution_count": null,
      "outputs": [
        {
          "output_type": "stream",
          "text": [
            "1 Hola\n",
            "2 Hola\n",
            "3 Hola\n",
            "4 Hola\n",
            "5 Hola\n",
            "6 Hola\n",
            "7 Hola\n",
            "8 Hola\n",
            "9 Hola\n",
            "10 Hola\n"
          ],
          "name": "stdout"
        }
      ]
    },
    {
      "cell_type": "code",
      "metadata": {
        "id": "ZYBk1fw34-FO",
        "colab": {
          "base_uri": "https://localhost:8080/",
          "height": 188
        },
        "outputId": "c0ac8575-c592-4b7b-edad-cf89e1c0b8a7"
      },
      "source": [
        "for i in range(10,0,-1):# 0- [n-1]\n",
        "  print(i, \"Hola\")"
      ],
      "execution_count": null,
      "outputs": [
        {
          "output_type": "stream",
          "text": [
            "10 Hola\n",
            "9 Hola\n",
            "8 Hola\n",
            "7 Hola\n",
            "6 Hola\n",
            "5 Hola\n",
            "4 Hola\n",
            "3 Hola\n",
            "2 Hola\n",
            "1 Hola\n"
          ],
          "name": "stdout"
        }
      ]
    },
    {
      "cell_type": "code",
      "metadata": {
        "id": "YEC4fxCDZZUc",
        "colab": {
          "base_uri": "https://localhost:8080/",
          "height": 531
        },
        "outputId": "63e15c7e-9130-4a79-f807-e459500407fe"
      },
      "source": [
        "#Inicio\n",
        "#Fin\n",
        "#Incremento - Decremento\n",
        "#condición inicio-fin\n",
        "#Para i= 0 , i< 10, i<- i+1\n",
        "#   Escribir(\"Hola\")\n",
        "#FinPara\n",
        "\n",
        "for i in range(10):#inicio = 0 # fin < 10  #incremento 1\n",
        "  print(i+1,\"Hola\")\n",
        "\n",
        "for i in range(1, 11):#inicio = 1 # fin <= 10  #incremento 1\n",
        "  print(i,\"Esto\")\n",
        "\n",
        "for i in range(1, 11, 1):#inicio = 1 # fin <= 10  #incremento 1\n",
        "  print(i,\"Python\")"
      ],
      "execution_count": null,
      "outputs": [
        {
          "output_type": "stream",
          "text": [
            "1 Hola\n",
            "2 Hola\n",
            "3 Hola\n",
            "4 Hola\n",
            "5 Hola\n",
            "6 Hola\n",
            "7 Hola\n",
            "8 Hola\n",
            "9 Hola\n",
            "10 Hola\n",
            "1 Esto\n",
            "2 Esto\n",
            "3 Esto\n",
            "4 Esto\n",
            "5 Esto\n",
            "6 Esto\n",
            "7 Esto\n",
            "8 Esto\n",
            "9 Esto\n",
            "10 Esto\n",
            "1 Python\n",
            "2 Python\n",
            "3 Python\n",
            "4 Python\n",
            "5 Python\n",
            "6 Python\n",
            "7 Python\n",
            "8 Python\n",
            "9 Python\n",
            "10 Python\n"
          ],
          "name": "stdout"
        }
      ]
    },
    {
      "cell_type": "code",
      "metadata": {
        "id": "4WOKWlhDeP7B",
        "colab": {
          "base_uri": "https://localhost:8080/",
          "height": 326
        },
        "outputId": "55ff18f8-4ec7-457f-b788-5859f821df96"
      },
      "source": [
        "palabra = \"Testeo Python%&\\n\"\n",
        "\n",
        "#print(palabra)\n",
        "\n",
        "#for i in palabra:\n",
        "#  print(i)\n",
        "\n",
        "tam = len(palabra)\n",
        "print(tam)\n",
        "\n",
        "for i in range(tam):\n",
        "  print(palabra[i])"
      ],
      "execution_count": null,
      "outputs": [
        {
          "output_type": "stream",
          "text": [
            "16\n",
            "T\n",
            "e\n",
            "s\n",
            "t\n",
            "e\n",
            "o\n",
            " \n",
            "P\n",
            "y\n",
            "t\n",
            "h\n",
            "o\n",
            "n\n",
            "%\n",
            "&\n",
            "\n",
            "\n"
          ],
          "name": "stdout"
        }
      ]
    },
    {
      "cell_type": "code",
      "metadata": {
        "id": "r82fY7zzhhJ1",
        "colab": {
          "base_uri": "https://localhost:8080/",
          "height": 120
        },
        "outputId": "5b6db7bf-ab22-41d0-8bad-356bbadbb154"
      },
      "source": [
        "numero = 12345\n",
        "\n",
        "numero2 = str(numero)\n",
        "\n",
        "tam = len(numero2)\n",
        "#print(tam)\n",
        "\n",
        "for i in range(tam):\n",
        "  print(numero2[i])\n",
        "  if numero2[i] == '3':\n",
        "    print(\"si\")"
      ],
      "execution_count": null,
      "outputs": [
        {
          "output_type": "stream",
          "text": [
            "1\n",
            "2\n",
            "3\n",
            "si\n",
            "4\n",
            "5\n"
          ],
          "name": "stdout"
        }
      ]
    }
  ]
}