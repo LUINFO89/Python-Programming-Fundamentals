{
  "nbformat": 4,
  "nbformat_minor": 0,
  "metadata": {
    "colab": {
      "name": "Mientras que (MQ-Fin).ipynb",
      "provenance": [],
      "collapsed_sections": []
    },
    "kernelspec": {
      "name": "python3",
      "display_name": "Python 3"
    },
    "language_info": {
      "name": "python"
    }
  },
  "cells": [
    {
      "cell_type": "code",
      "metadata": {
        "id": "mwsX9lQioJzU",
        "colab": {
          "base_uri": "https://localhost:8080/",
          "height": 34
        },
        "outputId": "3818f766-ba65-4adc-a4b7-86164f09a084"
      },
      "source": [
        "while True:\n",
        "  print(\"si\")\n",
        "  break"
      ],
      "execution_count": null,
      "outputs": [
        {
          "output_type": "stream",
          "text": [
            "si\n"
          ],
          "name": "stdout"
        }
      ]
    },
    {
      "cell_type": "code",
      "metadata": {
        "id": "mO531wI5pMDW",
        "colab": {
          "base_uri": "https://localhost:8080/",
          "height": 120
        },
        "outputId": "9b9bcdba-e027-4a61-fd64-a26e448b937c"
      },
      "source": [
        "continuar = True\n",
        "\n",
        "while continuar:\n",
        "  valor = int (input(\"Digite 1 si desea continuar 2.Salir:\"))\n",
        "  if valor == 2:\n",
        "    continuar = False  \n",
        "  elif valor == 1:\n",
        "    continuar = True\n",
        "  else:\n",
        "    print(\"Valor incorrecto\")     "
      ],
      "execution_count": null,
      "outputs": [
        {
          "output_type": "stream",
          "text": [
            "Digite 1 si desea continuar 2.Salir:1\n",
            "Digite 1 si desea continuar 2.Salir:6\n",
            "Valor incorrecto\n",
            "Digite 1 si desea continuar 2.Salir:4\n",
            "Valor incorrecto\n",
            "Digite 1 si desea continuar 2.Salir:2\n"
          ],
          "name": "stdout"
        }
      ]
    },
    {
      "cell_type": "code",
      "metadata": {
        "id": "RdDE3dVSqgak",
        "colab": {
          "base_uri": "https://localhost:8080/",
          "height": 137
        },
        "outputId": "0f6dc80d-cce5-4c33-cdad-443454646b07"
      },
      "source": [
        "i = 1\n",
        "\n",
        "while i <= 6:\n",
        "  print(i,\"Hola\")\n",
        "  i += 1 #i = i + 1 \n",
        "\n",
        "print(\"Salí del ciclo\")  "
      ],
      "execution_count": null,
      "outputs": [
        {
          "output_type": "stream",
          "text": [
            "1 Hola\n",
            "2 Hola\n",
            "3 Hola\n",
            "4 Hola\n",
            "5 Hola\n",
            "6 Hola\n",
            "Salí del ciclo\n"
          ],
          "name": "stdout"
        }
      ]
    },
    {
      "cell_type": "code",
      "metadata": {
        "id": "8ZfVEqp2vVCT",
        "colab": {
          "base_uri": "https://localhost:8080/",
          "height": 291
        },
        "outputId": "57b70dc7-58c4-4839-9f97-ab175aef1df3"
      },
      "source": [
        "i = 0\n",
        "while i < 6: \n",
        "  i += 1 #i = i + 1\n",
        "  if i == 4:\n",
        "    continue\n",
        "  print(i,\"Hola\")\n",
        "  print(\"manzanas\")\n",
        "  print(\"peras\")\n",
        "print(\"Salí del ciclo\")  "
      ],
      "execution_count": null,
      "outputs": [
        {
          "output_type": "stream",
          "text": [
            "1 Hola\n",
            "manzanas\n",
            "peras\n",
            "2 Hola\n",
            "manzanas\n",
            "peras\n",
            "3 Hola\n",
            "manzanas\n",
            "peras\n",
            "5 Hola\n",
            "manzanas\n",
            "peras\n",
            "6 Hola\n",
            "manzanas\n",
            "peras\n",
            "Salí del ciclo\n"
          ],
          "name": "stdout"
        }
      ]
    },
    {
      "cell_type": "markdown",
      "metadata": {
        "id": "qyzWbPZqv_fH"
      },
      "source": [
        "Realice un programa para una notaria, que permita verificar si N parejas(Máximo 10 – Mínimo 1) en el día se pueden casar teniendo en cuenta que debe cumplir las siguientes condiciones:\n",
        "\n",
        "* Debe de ser mayor de edad\n",
        "* Debe ser soltero.\n",
        "\n",
        "NOTA = me puedo salir en cualquier momento. "
      ]
    },
    {
      "cell_type": "code",
      "metadata": {
        "id": "Q2ZQXFS6v8Uo",
        "colab": {
          "base_uri": "https://localhost:8080/",
          "height": 103
        },
        "outputId": "c0156b61-11b9-4685-9494-968c1c354a03"
      },
      "source": [
        "continuar = \"si\"\n",
        "i = 0\n",
        "\n",
        "while continuar == \"si\" and i<=10:\n",
        "  edad = int(input(\"Digite la edad:\"))\n",
        "  estadoCivil = input(\"Es soltero si/no:\")\n",
        "\n",
        "  if edad >=18 and estadoCivil == \"si\":\n",
        "    print(\"Se pueden casar\")\n",
        "    i+=1    \n",
        "  else:\n",
        "    print(\"No pueden casar\")\n",
        "  \n",
        "  continuar = input(\"Desea continuar si/no:\")\n",
        "\n",
        "print(\"Se pueden casar \",i, \" parejas. \")"
      ],
      "execution_count": null,
      "outputs": [
        {
          "output_type": "stream",
          "text": [
            "Digite la edad:12\n",
            "Es soltero si/no:no\n",
            "No pueden casar\n",
            "Desea continuar si/no:no\n",
            "0\n"
          ],
          "name": "stdout"
        }
      ]
    },
    {
      "cell_type": "code",
      "metadata": {
        "id": "FI3jyD9MijRm",
        "colab": {
          "base_uri": "https://localhost:8080/",
          "height": 103
        },
        "outputId": "c905f2a7-4d82-437f-8d2a-e50b646941ed"
      },
      "source": [
        "numero = 12345\n",
        "\n",
        "#12345 % 10 = 5\n",
        "#12345 // 10 = 1234\n",
        "\n",
        "#1234 % 10 = 4\n",
        "#1234 // 10 =123\n",
        "\n",
        "#123 % 10 = 3\n",
        "#123 //10 = 12\n",
        "\n",
        "#12 % 10 = 2\n",
        "#12 //10 = 1\n",
        "\n",
        "#1 % 10 = 1\n",
        "#1 // 10 = 0\n",
        "\n",
        "while numero>0:\n",
        "  digito = numero % 10 \n",
        "  numero = numero // 10\n",
        "  print(digito)"
      ],
      "execution_count": null,
      "outputs": [
        {
          "output_type": "stream",
          "text": [
            "5\n",
            "4\n",
            "3\n",
            "2\n",
            "1\n"
          ],
          "name": "stdout"
        }
      ]
    }
  ]
}