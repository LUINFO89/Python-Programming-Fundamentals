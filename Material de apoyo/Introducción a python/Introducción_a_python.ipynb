{
  "nbformat": 4,
  "nbformat_minor": 0,
  "metadata": {
    "colab": {
      "name": "Introducción a python.ipynb",
      "provenance": [],
      "collapsed_sections": []
    },
    "kernelspec": {
      "name": "python3",
      "display_name": "Python 3"
    }
  },
  "cells": [
    {
      "cell_type": "code",
      "metadata": {
        "id": "RJHwZ-cR2a6V",
        "colab": {
          "base_uri": "https://localhost:8080/",
          "height": 54
        },
        "outputId": "41aa401c-ea96-485c-83ba-99968f8046c5"
      },
      "source": [
        "\"\"\"\n",
        "  Tipos de instrucciones (Primitivas algorítmicas)\n",
        "\n",
        "  Inicio\n",
        "    Instrucciones secuenciales (Asignación, Entrada/Salida)\n",
        "    Instrucciones condicionales (si-fsi, si-sino-fsi, en caso de)\n",
        "    Instrucciones repetitivas (para, mientras que)\n",
        "  Fin\n",
        "\n",
        "\"\"\""
      ],
      "execution_count": null,
      "outputs": [
        {
          "output_type": "execute_result",
          "data": {
            "application/vnd.google.colaboratory.intrinsic+json": {
              "type": "string"
            },
            "text/plain": [
              "'\\n  Tipos de instrucciones (Primitivas algorítmicas)\\n\\n  Inicio\\n    Instrucciones secuenciales (Asignación, Entrada/Salida)\\n    Instrucciones condicionales (si-fsi, si-sino-fsi, en caso de)\\n    Instrucciones repetitivas (para, mientras que)\\n  Fin\\n\\n'"
            ]
          },
          "metadata": {
            "tags": []
          },
          "execution_count": 1
        }
      ]
    },
    {
      "cell_type": "code",
      "metadata": {
        "id": "Z1vl2yKN3hEg",
        "colab": {
          "base_uri": "https://localhost:8080/",
          "height": 72
        },
        "outputId": "d287c5ab-eb0e-4971-b092-5a9191a8a4b6"
      },
      "source": [
        "# Asignación --> Guardar un valor en una variable\n",
        "#                  Contador : Cuenta cada ocurrencia de un objeto. c = c + 1\n",
        "#                  Sumador  : Acumula los valores de una variable. P = P + valor\n",
        "b = 0\n",
        "a = 5\n",
        "b = b + a\n",
        "print(b)\n",
        "b = b + 2*a\n",
        "print(b) \n",
        "b = b + 3*a\n",
        "print(b) \n"
      ],
      "execution_count": null,
      "outputs": [
        {
          "output_type": "stream",
          "text": [
            "5\n",
            "15\n",
            "30\n"
          ],
          "name": "stdout"
        }
      ]
    },
    {
      "cell_type": "code",
      "metadata": {
        "id": "WjL9TeWd4iX8",
        "colab": {
          "base_uri": "https://localhost:8080/",
          "height": 35
        },
        "outputId": "8b80ffbf-2121-4fa7-a1ce-d2ea1406b4af"
      },
      "source": [
        "#Entrada - Salida :\n",
        "# Entrada   : input(prompt)\n",
        "rpta = input(\"Por favor indique si le gust´la clase\")"
      ],
      "execution_count": null,
      "outputs": [
        {
          "output_type": "stream",
          "text": [
            "Por favor indique si le gust´la claseQuizas\n"
          ],
          "name": "stdout"
        }
      ]
    },
    {
      "cell_type": "code",
      "metadata": {
        "id": "MrOIHd9d4-p2",
        "colab": {
          "base_uri": "https://localhost:8080/",
          "height": 35
        },
        "outputId": "4766a8e0-aeb8-4f29-f1ca-38d268d0868c"
      },
      "source": [
        "# Salida    : print(valores)\n",
        "print(\"Su respuesta fue\",rpta)"
      ],
      "execution_count": null,
      "outputs": [
        {
          "output_type": "stream",
          "text": [
            "Su respuesta fue Quizas\n"
          ],
          "name": "stdout"
        }
      ]
    },
    {
      "cell_type": "code",
      "metadata": {
        "id": "JXrRNLBGBgVH",
        "colab": {
          "base_uri": "https://localhost:8080/",
          "height": 68
        },
        "outputId": "4deba054-c710-4843-ed1a-b0bfe6fa3e94"
      },
      "source": [
        "A = 15\n",
        "B = 2\n",
        "\n",
        "#E ← A div B; #(cociente división entera)\n",
        "E =  A // B \n",
        "\n",
        "#D ←  A / B; #(cociente División real)\n",
        "D = A / B\n",
        "\n",
        "#C ← A mod B;  #(Residuo división)\n",
        "C = A % B\n",
        "\n",
        "print(\"Cociente división entera:\", E)\n",
        "\n",
        "print(\"Cociente división real:\", D)\n",
        "\n",
        "print(\"Residuo división:\", C)"
      ],
      "execution_count": null,
      "outputs": [
        {
          "output_type": "stream",
          "text": [
            "Cociente división entera: 7\n",
            "Cociente división real: 7.5\n",
            "Residuo división: 1\n"
          ],
          "name": "stdout"
        }
      ]
    },
    {
      "cell_type": "code",
      "metadata": {
        "id": "itVOzEYcjSst",
        "colab": {
          "base_uri": "https://localhost:8080/",
          "height": 102
        },
        "outputId": "634253a7-8cce-4a61-c912-b1708c6768ef"
      },
      "source": [
        "A = int (input(\"Digite el valor para A:\"))\n",
        "B = int (input(\"Digite el valor para B:\"))\n",
        "\n",
        "#E ← A div B; #(cociente división entera)\n",
        "E =  A // B \n",
        "\n",
        "#D ←  A / B; #(cociente División real)\n",
        "D = A / B\n",
        "\n",
        "#C ← A mod B;  #(Residuo división)\n",
        "C = A % B\n",
        "\n",
        "print(\"Cociente división entera:\", E)\n",
        "\n",
        "print(\"Cociente división real:\", D)\n",
        "\n",
        "print(\"Residuo división:\", C)"
      ],
      "execution_count": null,
      "outputs": [
        {
          "output_type": "stream",
          "text": [
            "Digite el valor para A:43\n",
            "Digite el valor para B:2\n",
            "Cociente división entera: 21\n",
            "Cociente división real: 21.5\n",
            "Residuo división: 1\n"
          ],
          "name": "stdout"
        }
      ]
    },
    {
      "cell_type": "code",
      "metadata": {
        "id": "UwZR2tUnsSbJ",
        "colab": {
          "base_uri": "https://localhost:8080/",
          "height": 221
        },
        "outputId": "367e6f40-cc99-4505-b12f-420cfdb2ab19"
      },
      "source": [
        "help(print)"
      ],
      "execution_count": null,
      "outputs": [
        {
          "output_type": "stream",
          "text": [
            "Help on built-in function print in module builtins:\n",
            "\n",
            "print(...)\n",
            "    print(value, ..., sep=' ', end='\\n', file=sys.stdout, flush=False)\n",
            "    \n",
            "    Prints the values to a stream, or to sys.stdout by default.\n",
            "    Optional keyword arguments:\n",
            "    file:  a file-like object (stream); defaults to the current sys.stdout.\n",
            "    sep:   string inserted between values, default a space.\n",
            "    end:   string appended after the last value, default a newline.\n",
            "    flush: whether to forcibly flush the stream.\n",
            "\n"
          ],
          "name": "stdout"
        }
      ]
    }
  ]
}