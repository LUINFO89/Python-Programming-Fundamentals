{
  "nbformat": 4,
  "nbformat_minor": 0,
  "metadata": {
    "colab": {
      "name": "Cuándo utilizar los formatos CSV o JSON.ipynb",
      "provenance": [],
      "collapsed_sections": []
    },
    "kernelspec": {
      "name": "python3",
      "display_name": "Python 3"
    },
    "language_info": {
      "name": "python"
    }
  },
  "cells": [
    {
      "cell_type": "code",
      "metadata": {
        "id": "VCKe3JsTGi-9"
      },
      "source": [
        "import csv\n",
        "\n",
        "archivo = open(\"miArchivoCSV1.csv\", mode='w', encoding='utf-8-sig')\n",
        "\n",
        "escribirArchivo = csv.writer(archivo)\n",
        "fila =[1,2,3,4]\n",
        "\n",
        "escribirArchivo.writerow(fila)\n",
        "\n",
        "archivo.close()"
      ],
      "execution_count": null,
      "outputs": []
    },
    {
      "cell_type": "code",
      "metadata": {
        "id": "0iLsSUcqHa5s",
        "colab": {
          "base_uri": "https://localhost:8080/",
          "height": 34
        },
        "outputId": "592e8024-cbb1-4dfd-d29c-9efec06ebaab"
      },
      "source": [
        "import json\n",
        "\n",
        "archivoJson = '{\"nombre\": \"[Karen,Maria]\", \"Edad\":\"29\",\"Ciudad\":\"Barranquilla\"}'\n",
        "\n",
        "valores = json.loads(archivoJson)\n",
        "\n",
        "print(valores)"
      ],
      "execution_count": null,
      "outputs": [
        {
          "output_type": "stream",
          "text": [
            "{'nombre': '[Karen,Maria]', 'Edad': '29', 'Ciudad': 'Barranquilla'}\n"
          ],
          "name": "stdout"
        }
      ]
    },
    {
      "cell_type": "code",
      "metadata": {
        "id": "mzBt-6JDEtOH",
        "colab": {
          "base_uri": "https://localhost:8080/",
          "height": 86
        },
        "outputId": "eca63207-c268-4ee8-9349-7e8133ddaea5"
      },
      "source": [
        "import csv\n",
        "\n",
        "archivo = open(\"miArchivoCSV.csv\", mode='r', encoding='utf-8-sig')\n",
        "\n",
        "leerArchivo = csv.reader(archivo)# retorna un objeto con las filas del csv\n",
        "\n",
        "for fila in leerArchivo: # Este va a recorrer cada fila\n",
        "  print(fila)"
      ],
      "execution_count": null,
      "outputs": [
        {
          "output_type": "stream",
          "text": [
            "['1', '2', '3', '4']\n",
            "['5', '6', '78', '4']\n",
            "['7', '1', '1', '2']\n",
            "['9', '7', '34', '21']\n"
          ],
          "name": "stdout"
        }
      ]
    },
    {
      "cell_type": "code",
      "metadata": {
        "id": "3Nt9u2vRGJr5",
        "colab": {
          "base_uri": "https://localhost:8080/",
          "height": 291
        },
        "outputId": "8a516df3-bd8e-4102-9b77-835102e0222f"
      },
      "source": [
        "import csv\n",
        "\n",
        "archivo = open(\"miArchivoCSV.csv\", mode='r', encoding='utf-8-sig')\n",
        "\n",
        "leerArchivo = csv.reader(archivo)# retorna un objeto con las filas del csv\n",
        "\n",
        "for fila in leerArchivo: # Este va a recorrer cada fila\n",
        "  for elemento in fila:\n",
        "    print(elemento)"
      ],
      "execution_count": null,
      "outputs": [
        {
          "output_type": "stream",
          "text": [
            "1\n",
            "2\n",
            "3\n",
            "4\n",
            "5\n",
            "6\n",
            "78\n",
            "4\n",
            "7\n",
            "1\n",
            "1\n",
            "2\n",
            "9\n",
            "7\n",
            "34\n",
            "21\n"
          ],
          "name": "stdout"
        }
      ]
    },
    {
      "cell_type": "code",
      "metadata": {
        "id": "ZujVE5yxKee6",
        "colab": {
          "base_uri": "https://localhost:8080/",
          "height": 137
        },
        "outputId": "8db17d3d-8701-464c-e00d-d096357c894a"
      },
      "source": [
        "import json\n",
        "\n",
        "miArchivo = open(\"ejemploJson.json\",\"r\") \n",
        "\n",
        "datos = miArchivo.read()#Leer Archivo\n",
        "\n",
        "valores = json.loads(datos)#Cargar en un diccionario\n",
        "\n",
        "#print(valores)\n",
        "\n",
        "#Mandar a imprimir el diccionario key= llave  value = valor\n",
        "for i in valores:\n",
        "  print(i, \":\", valores[i])"
      ],
      "execution_count": null,
      "outputs": [
        {
          "output_type": "stream",
          "text": [
            "callId : 430e158ee87647d69201c80735bcc504\n",
            "errorCode : 0\n",
            "apiVersion : 2\n",
            "statusCode : 200\n",
            "statusReason : OK\n",
            "time : 2020-10-23T01:52:50.548Z\n",
            "UID : 1db3d0b99f0148258eceffbe02178e39\n"
          ],
          "name": "stdout"
        }
      ]
    }
  ]
}