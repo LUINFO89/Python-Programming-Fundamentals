{
  "nbformat": 4,
  "nbformat_minor": 0,
  "metadata": {
    "colab": {
      "name": "Arreglos Unidimensionales (Vectores): (I) Actualización y (II) Búsqueda Secuencial.ipynb",
      "provenance": [],
      "collapsed_sections": []
    },
    "kernelspec": {
      "name": "python3",
      "display_name": "Python 3"
    },
    "language_info": {
      "name": "python"
    }
  },
  "cells": [
    {
      "cell_type": "code",
      "metadata": {
        "id": "3MG0KJk1ACsB",
        "colab": {
          "base_uri": "https://localhost:8080/"
        },
        "outputId": "b8ec9885-f63c-41ff-9ef7-893cc314c635"
      },
      "source": [
        "listaEstudiantes = [\"Maria\", \"José\", \"Pedro\", \"Lucía\" ]\n",
        "\n",
        "listaEstudiantes.pop()\n",
        "print(listaEstudiantes)"
      ],
      "execution_count": 4,
      "outputs": [
        {
          "output_type": "stream",
          "text": [
            "['Maria', 'José', 'Pedro']\n"
          ],
          "name": "stdout"
        }
      ]
    },
    {
      "cell_type": "code",
      "metadata": {
        "id": "6-p4c576AYNw",
        "colab": {
          "base_uri": "https://localhost:8080/",
          "height": 34
        },
        "outputId": "98f28e96-a26f-47a9-b09a-b78a066fd836"
      },
      "source": [
        "listaEstudiantes.pop(2)\n",
        "print(listaEstudiantes)"
      ],
      "execution_count": null,
      "outputs": [
        {
          "output_type": "stream",
          "text": [
            "['Maria', 'Pedro', 'Jorge', 'Martín']\n"
          ],
          "name": "stdout"
        }
      ]
    },
    {
      "cell_type": "code",
      "metadata": {
        "id": "U19OYa1QA9Yp",
        "colab": {
          "base_uri": "https://localhost:8080/",
          "height": 34
        },
        "outputId": "22298dd2-16ea-4d59-abe6-b152bec112ec"
      },
      "source": [
        "listaEstudiantes.insert(3,\"Vanessa\")\n",
        "print(listaEstudiantes)"
      ],
      "execution_count": null,
      "outputs": [
        {
          "output_type": "stream",
          "text": [
            "['Maria', 'Pedro', 'Jorge', 'Vanessa', 'Martín']\n"
          ],
          "name": "stdout"
        }
      ]
    }
  ]
}