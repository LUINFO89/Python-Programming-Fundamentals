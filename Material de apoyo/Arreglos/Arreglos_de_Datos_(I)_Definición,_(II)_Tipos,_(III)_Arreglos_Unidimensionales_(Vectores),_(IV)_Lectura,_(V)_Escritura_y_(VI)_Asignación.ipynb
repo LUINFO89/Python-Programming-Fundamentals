{
  "nbformat": 4,
  "nbformat_minor": 0,
  "metadata": {
    "colab": {
      "name": " Arreglos de Datos: (I) Definición, (II) Tipos, (III) Arreglos Unidimensionales (Vectores), (IV) Lectura, (V) Escritura y (VI) Asignación.ipynb",
      "provenance": [],
      "collapsed_sections": []
    },
    "kernelspec": {
      "name": "python3",
      "display_name": "Python 3"
    },
    "language_info": {
      "name": "python"
    }
  },
  "cells": [
    {
      "cell_type": "code",
      "metadata": {
        "id": "TKzptyTw9bMq",
        "colab": {
          "base_uri": "https://localhost:8080/"
        },
        "outputId": "26da4393-cf38-468a-9506-ad252b9cdb3f"
      },
      "source": [
        "listaNotas = [0.1 ,3.0 ,4.5 ,3.5]\n",
        "listaEstudiantes = [\"Maria\", \"José\", \"Pedro\", \"Lucía\" ]\n",
        "\n",
        "for i in range(len(listaNotas)):\n",
        "  print(i, listaEstudiantes[i] ,listaNotas[i])"
      ],
      "execution_count": 2,
      "outputs": [
        {
          "output_type": "stream",
          "text": [
            "0 Maria 0.1\n",
            "1 José 3.0\n",
            "2 Pedro 4.5\n",
            "3 Lucía 3.5\n"
          ],
          "name": "stdout"
        }
      ]
    },
    {
      "cell_type": "code",
      "metadata": {
        "id": "k-4OBGAQ_QN8",
        "colab": {
          "base_uri": "https://localhost:8080/",
          "height": 34
        },
        "outputId": "1944b18f-87db-49e5-a59c-b17c84ff4034"
      },
      "source": [
        "print(listaEstudiantes)"
      ],
      "execution_count": null,
      "outputs": [
        {
          "output_type": "stream",
          "text": [
            "['Maria', 'José', 'Pedro', 'Lucía']\n"
          ],
          "name": "stdout"
        }
      ]
    },
    {
      "cell_type": "code",
      "metadata": {
        "id": "YHvXZjk0BbI6",
        "colab": {
          "base_uri": "https://localhost:8080/",
          "height": 103
        },
        "outputId": "cb75a54c-d13f-4c44-fc06-85121d7ab0ae"
      },
      "source": [
        "listaEstudiantes = []\n",
        "\n",
        "for i in range(5):\n",
        "  nombre = input(\"Digite un nombre:\")\n",
        "  listaEstudiantes.append(nombre)\n",
        "\n",
        "print(listaEstudiantes)"
      ],
      "execution_count": null,
      "outputs": [
        {
          "output_type": "stream",
          "text": [
            "Digite un nombre:andres\n",
            "Digite un nombre:carlos\n",
            "Digite un nombre:manuel\n",
            "Digite un nombre:jose\n",
            "Digite un nombre:carla\n"
          ],
          "name": "stdout"
        }
      ]
    }
  ]
}