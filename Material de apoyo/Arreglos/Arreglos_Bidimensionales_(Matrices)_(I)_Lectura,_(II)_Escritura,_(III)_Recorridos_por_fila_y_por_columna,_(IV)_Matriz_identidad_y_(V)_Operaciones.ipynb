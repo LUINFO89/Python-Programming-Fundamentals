{
  "nbformat": 4,
  "nbformat_minor": 0,
  "metadata": {
    "colab": {
      "name": "Arreglos Bidimensionales (Matrices): (I) Lectura, (II) Escritura, (III) Recorridos por fila y por columna, (IV) Matriz identidad y (V) Operaciones.ipynb",
      "provenance": [],
      "collapsed_sections": []
    },
    "kernelspec": {
      "name": "python3",
      "display_name": "Python 3"
    }
  },
  "cells": [
    {
      "cell_type": "code",
      "metadata": {
        "id": "XGq6qolkjsRm",
        "colab": {
          "base_uri": "https://localhost:8080/",
          "height": 86
        },
        "outputId": "352c20ae-cb3e-48c9-f775-0cafc73c6d48"
      },
      "source": [
        "#Matriz 3 x 4\n",
        "lista =[[1,2,3,4], [5,6,8,8], [0,8,7,6]]\n",
        "\n",
        "print(lista)\n",
        "\n",
        "for i in lista:\n",
        "  for j in i:\n",
        "    print(j,end=' ')\n",
        "  print()"
      ],
      "execution_count": null,
      "outputs": [
        {
          "output_type": "stream",
          "text": [
            "[[1, 2, 3, 4], [5, 6, 8, 8], [0, 8, 7, 6]]\n",
            "1 2 3 4 \n",
            "5 6 8 8 \n",
            "0 8 7 6 \n"
          ],
          "name": "stdout"
        }
      ]
    },
    {
      "cell_type": "code",
      "metadata": {
        "id": "HPaGPRzrtPSU",
        "colab": {
          "base_uri": "https://localhost:8080/",
          "height": 68
        },
        "outputId": "d6249651-9252-4fe7-abe5-6d2fb27356d9"
      },
      "source": [
        "for i in range(len(lista)):\n",
        "  for j in range(len(lista[i])):\n",
        "    print(lista[i][j], end=' ')\n",
        "  print()"
      ],
      "execution_count": null,
      "outputs": [
        {
          "output_type": "stream",
          "text": [
            "1 2 3 4 \n",
            "5 6 8 8 \n",
            "0 8 7 6 \n"
          ],
          "name": "stdout"
        }
      ]
    },
    {
      "cell_type": "markdown",
      "metadata": {
        "id": "b_VXQo7dunQU"
      },
      "source": [
        "\n",
        "El producto escalar de un número real, x , y una matriz A es la matriz xA. Cada elemento de la matriz xA es x veces su elemento correspondiente en A.\n",
        "\n",
        "Diseñemos una funcion escalar(matriz, escalar) que dada matriz[m][n] y un escalar, imprima el producto escalar de la matriz."
      ]
    },
    {
      "cell_type": "code",
      "metadata": {
        "id": "A5fnbvYfJa6U"
      },
      "source": [
        ""
      ],
      "execution_count": null,
      "outputs": []
    },
    {
      "cell_type": "code",
      "metadata": {
        "id": "t9TRNGf0JcM7",
        "colab": {
          "base_uri": "https://localhost:8080/",
          "height": 34
        },
        "outputId": "f6d90143-3d1d-4f68-98a8-15ac20fe01c7"
      },
      "source": [
        "print(valores[\"Edad\"])"
      ],
      "execution_count": null,
      "outputs": [
        {
          "output_type": "stream",
          "text": [
            "29\n"
          ],
          "name": "stdout"
        }
      ]
    }
  ]
}