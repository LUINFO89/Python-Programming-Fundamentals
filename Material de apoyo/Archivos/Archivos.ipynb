{
  "nbformat": 4,
  "nbformat_minor": 0,
  "metadata": {
    "colab": {
      "name": "Archivos.ipynb",
      "provenance": [],
      "collapsed_sections": []
    },
    "kernelspec": {
      "name": "python3",
      "display_name": "Python 3"
    },
    "language_info": {
      "name": "python"
    }
  },
  "cells": [
    {
      "cell_type": "code",
      "metadata": {
        "id": "_id0e2-u5nFn",
        "colab": {
          "base_uri": "https://localhost:8080/",
          "height": 68
        },
        "outputId": "ed5492f9-45d6-40f5-eaa9-c04991c275bf"
      },
      "source": [
        "#archivo = open(\"/users/Desktop/miArchivo.txt\",\"r\")\n",
        "\n",
        "archivo = open(\"miArchivo.txt\",'r')\n",
        "informacion = archivo.read()\n",
        "print(informacion)\n"
      ],
      "execution_count": null,
      "outputs": [
        {
          "output_type": "stream",
          "text": [
            "Mi primera linea del archivo\n",
            "Mi segunda linea del archivo\n",
            "\n"
          ],
          "name": "stdout"
        }
      ]
    },
    {
      "cell_type": "code",
      "metadata": {
        "id": "xfZr_OC47nsg",
        "colab": {
          "base_uri": "https://localhost:8080/",
          "height": 34
        },
        "outputId": "45ac5883-b19f-4cd4-e90b-67874e6dd20c"
      },
      "source": [
        "with open(\"miArchivo.txt\",'r') as archivo:\n",
        "  informacion = archivo.read()\n",
        "\n",
        "print(informacion)"
      ],
      "execution_count": null,
      "outputs": [
        {
          "output_type": "stream",
          "text": [
            "\n"
          ],
          "name": "stdout"
        }
      ]
    },
    {
      "cell_type": "code",
      "metadata": {
        "id": "ejwRBN7N82iy",
        "colab": {
          "base_uri": "https://localhost:8080/",
          "height": 86
        },
        "outputId": "12edee1c-7a9e-445f-d537-e8123dcb7110"
      },
      "source": [
        "archivo = open(\"miArchivo.txt\",'r')\n",
        "\n",
        "linea = archivo.readline()\n",
        "\n",
        "print(linea)\n",
        "\n",
        "linea = archivo.readline()\n",
        "\n",
        "print(linea)"
      ],
      "execution_count": null,
      "outputs": [
        {
          "output_type": "stream",
          "text": [
            "Mi primera linea del archivo\n",
            "\n",
            "Mi segunda linea del archivo\n",
            "\n"
          ],
          "name": "stdout"
        }
      ]
    },
    {
      "cell_type": "code",
      "metadata": {
        "id": "Szjg9vKZ9lg0",
        "colab": {
          "base_uri": "https://localhost:8080/",
          "height": 34
        },
        "outputId": "6f3a1b67-dbcb-4e95-9d75-836d79bb4824"
      },
      "source": [
        "archivo = open(\"miArchivo.txt\",'r')\n",
        "\n",
        "linea = archivo.readlines()\n",
        "\n",
        "print(linea)"
      ],
      "execution_count": null,
      "outputs": [
        {
          "output_type": "stream",
          "text": [
            "['Mi primera linea del archivo\\n', 'Mi segunda linea del archivo\\n']\n"
          ],
          "name": "stdout"
        }
      ]
    },
    {
      "cell_type": "code",
      "metadata": {
        "id": "lkl-cIEb_T6h"
      },
      "source": [
        "archivo = open(\"miArchivo1.txt\",\"w\")\n",
        "#write\n",
        "archivo.write(\"Esta es una linea\")\n",
        "archivo.close()\n",
        "\n",
        "#writelines\n",
        "\n"
      ],
      "execution_count": null,
      "outputs": []
    },
    {
      "cell_type": "code",
      "metadata": {
        "id": "0DB-fKsRBIJi"
      },
      "source": [
        "with open(\"miArchivo1.txt\",\"w\") as archivo:\n",
        "  #write\n",
        "  archivo.write(\"Esta es una linea\")\n"
      ],
      "execution_count": null,
      "outputs": []
    }
  ]
}