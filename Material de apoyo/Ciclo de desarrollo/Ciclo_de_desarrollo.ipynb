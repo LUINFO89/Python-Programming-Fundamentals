{
  "nbformat": 4,
  "nbformat_minor": 0,
  "metadata": {
    "kernelspec": {
      "display_name": "Python 3",
      "language": "python",
      "name": "python3"
    },
    "language_info": {
      "codemirror_mode": {
        "name": "ipython",
        "version": 3
      },
      "file_extension": ".py",
      "mimetype": "text/x-python",
      "name": "python",
      "nbconvert_exporter": "python",
      "pygments_lexer": "ipython3",
      "version": "3.6.12"
    },
    "colab": {
      "name": "Ciclo de desarrollo.ipynb",
      "provenance": [],
      "collapsed_sections": []
    }
  },
  "cells": [
    {
      "cell_type": "code",
      "metadata": {
        "colab": {
          "base_uri": "https://localhost:8080/"
        },
        "id": "JiMq4fzLyL8F",
        "outputId": "ec02be90-cdc7-4e38-97c2-de40ce442767"
      },
      "source": [
        "\"\"\"\n",
        "Dado un número, determinar si es par o no\n",
        "\n",
        "Entrada : numero\n",
        "Proceso : Se obtiene el residuo de dividir el número entre 2 y si es igual a 0 el número es par\n",
        "Salida  : Un mensaje indicardo Par, Impar o Error en el numero\n",
        "\n",
        "\"\"\"\n",
        "#Versión 1, implementación directa\n",
        "try:\n",
        "    numero = int(input('Por favor digite un número : '))\n",
        "    sal = 'Impar'                   # Supongo que es impar\n",
        "    if numero%2==0:                 # Pregunto si es par\n",
        "        sal = 'Par'\n",
        "except:\n",
        "    sal = 'Error en el numero'\n",
        "print(sal)"
      ],
      "execution_count": null,
      "outputs": [
        {
          "output_type": "stream",
          "text": [
            "Por favor digite un número : 8\n",
            "Par\n"
          ],
          "name": "stdout"
        }
      ]
    },
    {
      "cell_type": "code",
      "metadata": {
        "id": "lkzfMbVsyL8G",
        "outputId": "ba7d2608-deb1-4fc7-e04f-0bd84b12ef22"
      },
      "source": [
        "#Versión 2, implementando funciones\n",
        "\n",
        "def par(numero):\n",
        "    try:\n",
        "        sal = 'Impar'\n",
        "        if numero%2==0:\n",
        "            sal = 'Par'\n",
        "    except:\n",
        "        sal = 'Error en el numero'\n",
        "    return sal\n",
        "    \n",
        "par(22564)"
      ],
      "execution_count": null,
      "outputs": [
        {
          "output_type": "execute_result",
          "data": {
            "text/plain": [
              "'Par'"
            ]
          },
          "metadata": {
            "tags": []
          },
          "execution_count": 13
        }
      ]
    },
    {
      "cell_type": "code",
      "metadata": {
        "id": "H6YVmCmpyL8I",
        "outputId": "9a156d36-cea2-4c34-9962-c5d322b2ea31"
      },
      "source": [
        "\"\"\"\n",
        "En concordancia con las restricciones de circulación impuestas como medida preventiva al contagio del COVID, se desea saber \n",
        "si una persona específica puede salir un día en particular.\n",
        "\n",
        "La restricción en vigencia indica que las cédulas terminadas en número par pueden salir los días pares y las cédulas terminadas \n",
        "en día impar pueden salir los días impares\n",
        "\n",
        "Entrada  : número de cedula, número del día\n",
        "Proceso  : Comparar el último dígito de la cédula (par o impar) contra el número de día (par o impar), si son iguales, es decir,\n",
        "            ambos pares o ambos impares tiene salida permitida; en caso contrario no tiene salida permitida\n",
        "Salida   : Mensaje indicando: Salida permitida o Salida restringida\n",
        "\n",
        "\"\"\"\n",
        "\n",
        "#Version 1, sin utilizar funciones\n",
        "try:\n",
        "    numeroDia = int(input(\"Digite el número del día : \"))\n",
        "    numeroCedula = int(input(\"Digite el número de la cédula : \"))\n",
        "    diaPar = numeroDia%2==0             # Se asignan volores Lógicos como resultado de la comparación                 \n",
        "    cedulaPar = numeroCedula%2==0       # Se asignan valores Lógicos como resultado de la comparación\n",
        "    sal = 'Salida restringida'\n",
        "    if (diaPar and cedulaPar) or (not diaPar and not cedulaPar):\n",
        "        sal = 'Salida permitida'\n",
        "except:\n",
        "    sal = 'Salida restringida'\n",
        "print(sal)\n"
      ],
      "execution_count": null,
      "outputs": [
        {
          "output_type": "stream",
          "text": [
            "Digite el número del día : 28\n",
            "Digite el número de la cédula : 1123\n",
            "Salida restringida\n"
          ],
          "name": "stdout"
        }
      ]
    },
    {
      "cell_type": "code",
      "metadata": {
        "id": "qCQullLvyL8I",
        "outputId": "bf9bbc65-4c9e-472d-ba23-ff153aed332f"
      },
      "source": [
        "#Version 2, utilizando funciones\n",
        "def COVID(numeroDia, numeroCedula):\n",
        "    try:\n",
        "        diaPar = numeroDia%2==0           # Se asignan volores Lógicos como resultado de la comparación                 \n",
        "        cedulaPar = numeroCedula%2==0     # Se asignan valores Lógicos como resultado de la comparación\n",
        "        sal = \"Salida restringida\"\n",
        "        if (diaPar and cedulaPar) or (not diaPar and not cedulaPar):\n",
        "            sal = \"Salida permitida\"\n",
        "    except:\n",
        "        sal = \"Salida restringida\"\n",
        "    return sal\n",
        "\n",
        "COVID(28, 1794)\n"
      ],
      "execution_count": null,
      "outputs": [
        {
          "output_type": "execute_result",
          "data": {
            "text/plain": [
              "'Salida permitida'"
            ]
          },
          "metadata": {
            "tags": []
          },
          "execution_count": 7
        }
      ]
    },
    {
      "cell_type": "code",
      "metadata": {
        "id": "XQFx9QuAyL8J",
        "outputId": "1024035e-d22f-448a-8b1d-eedbc65938b5"
      },
      "source": [
        "\"\"\"\n",
        "Dados tres numeros enteros, determinar cual de ellos es el mayor\n",
        "\n",
        "Entrada : Tres (3) numeros enteros\n",
        "Proceso : Comparar cada número contra los otros para determinar el mayor\n",
        "Salida  : El mayor de los números\n",
        "\n",
        "\"\"\"\n",
        "#Versión 1, sin funciones\n",
        "try:\n",
        "    numero1 = int(input('Digite el primer número   : '))\n",
        "    numero2 = int(input('Digite el segundo número  : '))\n",
        "    numero3 = int(input('Digite el tercer número   : '))\n",
        "    mayor = numero1                 # Es algo cumún, suponer que el mayor es el primer de los tres números\n",
        "    if numero2>mayor:               # Si el numero2 es mayor, entonces pasa a ser el mayor\n",
        "        mayor = numero2\n",
        "    if numero3>mayor:               # Si el numero3 es mayor, entonces pasa a ser el mayor\n",
        "        mayor = numero3\n",
        "    sal = mayor\n",
        "except:\n",
        "    sal ='Error en los numeros'\n",
        "print(sal)"
      ],
      "execution_count": null,
      "outputs": [
        {
          "output_type": "stream",
          "text": [
            "Digite el primer númro   : 100\n",
            "Digite el segundo número : -5000\n",
            "Digite el tercer número  : 231\n",
            "231\n"
          ],
          "name": "stdout"
        }
      ]
    },
    {
      "cell_type": "code",
      "metadata": {
        "id": "PpJzGgzEyL8J",
        "outputId": "1b9f84a5-c418-4d3d-cd4f-ae3bd0e219a0"
      },
      "source": [
        "#Versión 2, con funciones\n",
        "def Mayor(numero1,numero2,numero3):\n",
        "    try:\n",
        "        mayor = numero1                 # Es algo cumún, suponer que el mayor es el primer de los tres números\n",
        "        if numero2>mayor:               # Si el numero2 es mayor, entonces pasa a ser el mayor\n",
        "            mayor = numero2\n",
        "        if numero3>mayor:               # Si el numero3 es mayor, entonces pasa a ser el mayor\n",
        "            mayor = numero3\n",
        "        sal = mayor\n",
        "    except:\n",
        "        sal ='Error en los numeros'\n",
        "    return sal\n",
        "\n",
        "Mayor(100, -5000, 231)"
      ],
      "execution_count": null,
      "outputs": [
        {
          "output_type": "execute_result",
          "data": {
            "text/plain": [
              "231"
            ]
          },
          "metadata": {
            "tags": []
          },
          "execution_count": 3
        }
      ]
    },
    {
      "cell_type": "code",
      "metadata": {
        "id": "irxIYxiuyL8J",
        "outputId": "7a4f1acf-fc78-4d85-b74d-7855135da715"
      },
      "source": [
        "\"\"\"\n",
        "Proponga un programa que tome como entrada un número entero y devuelva el número de cifras que lo componen, en caso\n",
        "de que el número sea negativo, el signo no cuenta como una cifra\n",
        "\n",
        "Entrada : Número entero\n",
        "Proceso : Contar el número de cifras (en este caso se utilizará la definición de la función logaritmo en base 10)\n",
        "Salida  : Cantidad de cifras o Error en número si no se puede calcular\n",
        "\n",
        "\"\"\"\n",
        "#Versión 1, sin definir funciones\n",
        "import math as ma\n",
        "try:\n",
        "    numero = int(input(\"Por favor digite el número : \"))\n",
        "    if numero<0:\n",
        "        numero = -numero\n",
        "    sal = int(ma.log(numero,10)+1)\n",
        "except:\n",
        "    sal = 'Error en el número'\n",
        "print(sal)\n"
      ],
      "execution_count": null,
      "outputs": [
        {
          "output_type": "stream",
          "text": [
            "Por favor digite el número : 56789\n",
            "5\n"
          ],
          "name": "stdout"
        }
      ]
    },
    {
      "cell_type": "code",
      "metadata": {
        "id": "LenPcL3SyL8K",
        "outputId": "9c0c8c3e-3a17-4dcf-cd7d-ab637c7390d7"
      },
      "source": [
        "#Versión 2, utilizando funciones\n",
        "import math as ma  # Esta instrucción es necesaria para poder utilizar log\n",
        "def cifras(n):\n",
        "    try:\n",
        "        if n<0:\n",
        "            n=abs(n)\n",
        "        sal = int(ma.log(n,10)+1)\n",
        "    except:\n",
        "        sal = 'Error en el numero'\n",
        "    return sal\n",
        "\n",
        "cifras(-2456)\n"
      ],
      "execution_count": null,
      "outputs": [
        {
          "output_type": "execute_result",
          "data": {
            "text/plain": [
              "4"
            ]
          },
          "metadata": {
            "tags": []
          },
          "execution_count": 6
        }
      ]
    },
    {
      "cell_type": "code",
      "metadata": {
        "id": "tmjWfG2FyL8K"
      },
      "source": [
        "\"\"\"\n",
        "Ahora los mismos ejercicios utilizando condicionales dobles\n",
        "\"\"\"\n",
        "# Condicional Doble\n",
        "# si Condicion entonces                        ==> if Condicion:\n",
        "#    accion1                                   ==>    accion1\n",
        "#    accion2                                   ==>    accion  \n",
        "#    ...                                       ==>    ...\n",
        "# sino                                         ==> else:\n",
        "#    axion1                                           axion1\n",
        "#    ...                                              ... \n",
        "# fsi                                          ==>\n",
        "# accion_m                                     ==> accion_m "
      ],
      "execution_count": null,
      "outputs": []
    },
    {
      "cell_type": "code",
      "metadata": {
        "id": "-eD4zilPyL8L"
      },
      "source": [
        "\"\"\"\n",
        "Dado un número, determinar si es par o no\n",
        "Entrada : numero\n",
        "Proceso : Se obtiene el residuo de dividir el número entre 2 y si es igual a 0 el número es par\n",
        "Salida  : Un mensaje indicardo Par, Impar o Error en el numero\n",
        "\"\"\"\n",
        "#Versión 1, implementación directa\n",
        "try:\n",
        "    numero = int(input('Por favor digite un número : '))\n",
        "    if numero%2==0:                 # Pregunto si es par\n",
        "        sal = 'Par'\n",
        "    else:\n",
        "        sal = 'Impar'\n",
        "except:\n",
        "    sal = 'Error en el numero'\n",
        "print(sal)\n"
      ],
      "execution_count": null,
      "outputs": []
    },
    {
      "cell_type": "code",
      "metadata": {
        "id": "Z_NK9yu5yL8L",
        "outputId": "bd20b327-02f0-425f-9e85-bba96370e514"
      },
      "source": [
        "# Versión 2, ahora con funciones\n",
        "def Par(numero):\n",
        "    try:\n",
        "        if numero%2==0:\n",
        "            sal = 'Par'\n",
        "        else:\n",
        "            sal = 'Impar'\n",
        "    except:\n",
        "        sal = 'Error en el numero'\n",
        "    return sal\n",
        "    \n",
        "Par(22564)"
      ],
      "execution_count": null,
      "outputs": [
        {
          "output_type": "execute_result",
          "data": {
            "text/plain": [
              "'Par'"
            ]
          },
          "metadata": {
            "tags": []
          },
          "execution_count": 12
        }
      ]
    },
    {
      "cell_type": "code",
      "metadata": {
        "id": "vz_Q2eXsyL8L"
      },
      "source": [
        "\"\"\"\n",
        "En concordancia con las restricciones de circulación impuestas como medida preventiva al contagio del COVID, se desea saber \n",
        "si una persona específica puede salir un día en particular.\n",
        "\n",
        "La restricción en vigencia indica que las cédulas terminadas en número par pueden salir los días pares y las cédulas terminadas \n",
        "en día impar pueden salir los días impares\n",
        "\n",
        "Entrada  : número de cedula, número del día\n",
        "Proceso  : Comparar el último dígito de la cédula (par o impar) contra el número de día (par o impar), si son iguales, es decir,\n",
        "            ambos pares o ambos impares tiene salida permitida; en caso contrario no tiene salida permitida\n",
        "Salida   : Mensaje indicando: Salida permitida o Salida restringida\n",
        "\"\"\"\n",
        "\n",
        "#Version 1, sin utilizar funciones\n",
        "try:\n",
        "    numeroDia = int(input(\"Digite el número del día : \"))\n",
        "    numeroCedula = int(input(\"Digite el número de la cédula : \"))\n",
        "    diaPar = numeroDia%2==0             # Se asignan volores Lógicos como resultado de la comparación                 \n",
        "    cedulaPar = numeroCedula%2==0       # Se asignan valores Lógicos como resultado de la comparación\n",
        "    if (diaPar and cedulaPar) or (not diaPar and not cedulaPar):\n",
        "        sal = 'Salida permitida'\n",
        "    else:\n",
        "        sal = 'Salida restringida'\n",
        "except:\n",
        "    sal = 'Salida restringida'\n",
        "print(sal)\n"
      ],
      "execution_count": null,
      "outputs": []
    },
    {
      "cell_type": "code",
      "metadata": {
        "id": "EJE9uUyjyL8M",
        "outputId": "8bfd9edf-9608-476d-8a73-3105939311a6"
      },
      "source": [
        "#Version 2, utilizando funciones\n",
        "def COVID(numeroDia, numeroCedula):\n",
        "    try:\n",
        "        diaPar = numeroDia%2==0           # Se asignan volores Lógicos como resultado de la comparación                 \n",
        "        cedulaPar = numeroCedula%2==0     # Se asignan valores Lógicos como resultado de la comparación\n",
        "        if (diaPar and cedulaPar) or (not diaPar and not cedulaPar):\n",
        "            sal = \"Salida permitida\"\n",
        "        else:\n",
        "            sal = \"Salida restringida\"\n",
        "    except:\n",
        "        sal = \"Salida restringida\"\n",
        "    return sal\n",
        "\n",
        "COVID(28, 1794)\n"
      ],
      "execution_count": null,
      "outputs": [
        {
          "output_type": "execute_result",
          "data": {
            "text/plain": [
              "'Salida permitida'"
            ]
          },
          "metadata": {
            "tags": []
          },
          "execution_count": 9
        }
      ]
    },
    {
      "cell_type": "code",
      "metadata": {
        "id": "qzko6rK7yL8M",
        "outputId": "d9ea5d1b-65ec-4885-cad7-9ac9304df773"
      },
      "source": [
        "\"\"\"\n",
        " \n",
        " Proponga un programa que tome como entrada un número de 4 cifras, muestre las cifras que componen al número y \n",
        " la mayor de ellas\n",
        " \n",
        " Entrada : Número entero (4 cifras)\n",
        " Proceso : Descomponer el número en sus cifras, por divisiones sucesivas y comparar para averiguar cual de ellas es la mayor\n",
        " Salida  : Un mensaje indicando las cifras del número y la mayor de ellas o Error en el numero en caso de fallo\n",
        " \n",
        "\"\"\"\n",
        "# Este ejercicio utiliza a la vez condicionales simples y dobles.\n",
        "def cifras(n):\n",
        "    try:\n",
        "        if n<0:\n",
        "            n=abs(n)\n",
        "        if n<1000 or n>9999:\n",
        "            sal = \"El número debe ser de 4 cifras\"\n",
        "        else:  \n",
        "            c1 = n%10\n",
        "            n = n//10\n",
        "            c2 = n%10\n",
        "            n = n//10\n",
        "            c3 = n%10\n",
        "            n = n//10\n",
        "            c4 = n\n",
        "            may = c1\n",
        "            if(c2>may):\n",
        "                may = c2\n",
        "            if(c3>may):\n",
        "                may = c3\n",
        "            if(c4>may):\n",
        "                may = c4\n",
        "        sal = \"Las cifras que componen al número son %i, %i, %i, %i y la mayor de ellas es %i\"%(c4,c3,c2,c1,may)\n",
        "    except:\n",
        "        sal = 'Error en los numeros'\n",
        "    return sal\n",
        "\n",
        "cifras(2345)"
      ],
      "execution_count": null,
      "outputs": [
        {
          "output_type": "execute_result",
          "data": {
            "text/plain": [
              "'Las cifras que componen al número son 2, 3, 4, 5 y la mayor de ellas es 5'"
            ]
          },
          "metadata": {
            "tags": []
          },
          "execution_count": 8
        }
      ]
    },
    {
      "cell_type": "code",
      "metadata": {
        "id": "fo6foW1g0Zja",
        "outputId": "d9a933f4-3391-438b-8e70-f070cb0ff6c1"
      },
      "source": [
        "\"\"\"\n",
        "    El Índice de Masa Corporal (IMC) se calcula como la relación que existe entre el peso (expresado en Kgs) y \n",
        "    la altura expresada en metros, como un efecto colateral de la pandemia COVID-19, se detectó un aumento\n",
        "    de caso de obesidad. Proponga un programa que tome el peso y la altura de una persona y devuelva el riesgo\n",
        "    que existe acorde a la siguiente tabla:\n",
        "\n",
        "    IMC                Riesgo\n",
        "    <15                Delgadez extrema\n",
        "    entre 15 y 30      Peso saludable\n",
        "    entre 30 y 40      Obesidad\n",
        "    >40                Obesidad Mórbida\n",
        "    \n",
        "Entrada : peso (Kg) y estatura (mts)\n",
        "Proceso : calcular el IMC(peso/estatura^2) y buscar dentro de la tabla a cual rango corresponde\n",
        "Salida  : Mensaje de Riesgo o Error en los numeros\n",
        "\n",
        "\"\"\"\n",
        "#Utilización del if anidado\n",
        "#Versión 1 sin funciones\n",
        "try:\n",
        "    peso = int(input('Por favor digite el peso de la persona (Kgs)    : '))\n",
        "    estatura = float(input('Por favor digite la esttura de la persona (mts) : '))\n",
        "    if peso<=0 or estatura<=0:\n",
        "        sal = 'Error en los números'\n",
        "    else:\n",
        "        IMC = peso/estatura**2      # recordar ** es el operador para elevar a una potencia\n",
        "        if IMC<15:\n",
        "            sal = 'Delgadez extrema'\n",
        "        else:\n",
        "            if IMC <=30:\n",
        "                sal = 'Peso saludable'\n",
        "            else:\n",
        "                if IMC<=40:\n",
        "                    sal='Obesidad'\n",
        "                else:\n",
        "                    sal='Obesidad Mórbida'\n",
        "except:\n",
        "    sal = 'Error en los números'\n",
        "print(sal)"
      ],
      "execution_count": null,
      "outputs": [
        {
          "output_type": "stream",
          "text": [
            "Por favor digite el peso de la persona (Kgs)    : 90\n",
            "Por favor digite la esttura de la persona (mts) : 1.78\n",
            "Peso saludable\n"
          ],
          "name": "stdout"
        }
      ]
    },
    {
      "cell_type": "code",
      "metadata": {
        "id": "hGeHBnHT0Zjc",
        "outputId": "cf28a7d2-e495-4da6-fe6a-7ed291397323"
      },
      "source": [
        "#Utilización del if anidado\n",
        "#Versión 2 con funciones\n",
        "def IMC(peso,estatura):\n",
        "    try:\n",
        "        if peso<=0 or estatura<=0:\n",
        "            sal = 'Error en los números'\n",
        "        else:\n",
        "            res = peso/estatura**2      # recordar ** es el operador para elevar a una potencia\n",
        "            if res<15:\n",
        "                sal = 'Delgadez extrema'\n",
        "            else:\n",
        "                if res <=30:\n",
        "                    sal = 'Peso saludable'\n",
        "                else:\n",
        "                    if res<=40:\n",
        "                        sal='Obesidad'\n",
        "                    else:\n",
        "                        sal='Obesidad Mórbida'\n",
        "    except:\n",
        "        sal = 'Error en los números'\n",
        "    return sal\n",
        "        \n",
        "IMC(90,1.82)"
      ],
      "execution_count": null,
      "outputs": [
        {
          "output_type": "execute_result",
          "data": {
            "text/plain": [
              "'Peso saludable'"
            ]
          },
          "metadata": {
            "tags": []
          },
          "execution_count": 4
        }
      ]
    },
    {
      "cell_type": "code",
      "metadata": {
        "id": "vB8z5sH30Zjc",
        "outputId": "d76c3b56-d8fe-4fef-ed92-edd4564487c9"
      },
      "source": [
        "\"\"\"\n",
        "Suponga que un conductor desea determinar que hacer frente a un semáforo\n",
        "\n",
        "LUCES             ACCIÓN\n",
        "----------------------------------------\n",
        "verde             Paso permitido\n",
        "Amarillo          Paso con precaución\n",
        "Rojo              paso no permitido\n",
        "\n",
        "Asuma que no es el conductor de un vehículo de emergencia.\n",
        "\n",
        "Entrada : Color de la luz\n",
        "Proceso : Comparar el color de la luz contra la tabla de acciones permitidas en el semáforo\n",
        "Salida  : Un mensaje indicando la acción (si la entrada es inválida indicar Semáforo descompuesto, pase con precaución)\n",
        "\n",
        "\"\"\"\n",
        "# Versión 1, sin utilizar funciones\n",
        "try:\n",
        "    color = input('Indique el color de la luz del semáforo : ')\n",
        "    color = color.upper()        # se pasa a mayúsculas para que las comparaciones sean efectivas\n",
        "    if color=='ROJO':\n",
        "        sal = 'Paso no permitido'\n",
        "    else:\n",
        "        if color=='AMARILLO':\n",
        "            sal = 'Paso con precaución'\n",
        "        else:\n",
        "            if color == 'VERDE':\n",
        "                sal = 'Paso permitido'\n",
        "            else:\n",
        "                sal = 'Semáforo descompuesto, pase con precaución'\n",
        "except:\n",
        "    sal = 'Semáforo descompuesto, pase con precaución'\n",
        "    \n",
        "print(sal)\n"
      ],
      "execution_count": null,
      "outputs": [
        {
          "output_type": "stream",
          "text": [
            "Indique el color de la luz del semáforo : rojo\n",
            "Paso no permitido\n"
          ],
          "name": "stdout"
        }
      ]
    },
    {
      "cell_type": "code",
      "metadata": {
        "id": "GUV-qhBQ0Zjd",
        "outputId": "c679f337-0782-4835-9652-750f8127914e"
      },
      "source": [
        "# Versión 2, como una función\n",
        "def semaforo(color):\n",
        "    try:\n",
        "        color = color.upper()        # se pasa a mayúsculas para que las comparaciones sean efectivas\n",
        "        if color=='ROJO':\n",
        "            sal = 'Paso no permitido'\n",
        "        else:\n",
        "            if color=='AMARILLO':\n",
        "                sal = 'Paso con precaución'\n",
        "            else:\n",
        "                if color == 'VERDE':\n",
        "                    sal = 'Paso permitido'\n",
        "                else:\n",
        "                    sal = 'Semáforo descompuesto, pase con precaución'\n",
        "    except:\n",
        "        sal = 'Semáforo descompuesto, pase con precaución'\n",
        "    return sal\n",
        "    \n",
        "semaforo('verde')"
      ],
      "execution_count": null,
      "outputs": [
        {
          "output_type": "execute_result",
          "data": {
            "text/plain": [
              "'Paso permitido'"
            ]
          },
          "metadata": {
            "tags": []
          },
          "execution_count": 6
        }
      ]
    },
    {
      "cell_type": "code",
      "metadata": {
        "id": "kGgQRlRI0Zje",
        "outputId": "da6d44bd-7efb-4151-97de-2f51e46396e5"
      },
      "source": [
        "\"\"\"\n",
        "Una modificación del programa del semáforo, en la cual se introduce la regla que los vehiculos de emergencia\n",
        "siempre tienen paso permitido, de forma que la tabla queda así:\n",
        "\n",
        "LUCES             TIPO VEHÍCULO         ACCIÓN\n",
        "------------------------------------------------\n",
        "verde             normal                Paso permitido\n",
        "Amarillo          normal                Paso con precaución\n",
        "Rojo              normal                paso no permitido\n",
        "verde             emergencia            Vehículo de emergencia, paso permitido\n",
        "Amarillo          emergencia            Vehículo de emergencia, paso permitido\n",
        "Rojo              emergencia            Vehículo de emergencia, paso permitido\n",
        "\n",
        "Entrada : color de la luz en el semáforo y tipo de vehiculo en el cruce\n",
        "Proceso : Comparar el tipo de vehículo y el color de la luz del semáforo contra los valores de la tabla\n",
        "Salida  : Acción recomendada, (si la entrada es inválida indicar Semáforo descompuesto, pase con precaución)\n",
        "\n",
        "\"\"\"\n",
        "# Versión 1, sin utilizar funciones\n",
        "try:\n",
        "    color = input('Indique el color de la luz del semáforo : ')\n",
        "    color = color.upper()                  # se pasa a mayúsculas para que las comparaciones sean efectivas\n",
        "    tipoVehiculo = input('Indique el tipo de vehículo             : ')\n",
        "    tipoVehiculo = tipoVehiculo.lower()    # se pasa a mayúsculas para que las comparaciones sean efectivas\n",
        "    if tipoVehiculo=='emergencia':         # Observe se compara en minúsculas\n",
        "        sal = 'Vehículo de emergencia, paso permitido'\n",
        "    else:\n",
        "        if color=='ROJO':\n",
        "            sal = 'Paso no permitido'\n",
        "        else:\n",
        "            if color=='AMARILLO':\n",
        "                sal = 'Paso con precaución'\n",
        "            else:\n",
        "                if color == 'VERDE':\n",
        "                    sal = 'Paso permitido'\n",
        "                else:\n",
        "                    sal = 'Semáforo descompuesto, pase con precaución'\n",
        "except:\n",
        "    sal = 'Semáforo descompuesto, pase con precaución'\n",
        "    \n",
        "print(sal)\n"
      ],
      "execution_count": null,
      "outputs": [
        {
          "output_type": "stream",
          "text": [
            "Indique el color de la luz del semáforo : rojo\n",
            "Indique el tipo de vehículo             : normal\n",
            "Paso no permitido\n"
          ],
          "name": "stdout"
        }
      ]
    },
    {
      "cell_type": "code",
      "metadata": {
        "id": "rySUo5N60Zjf"
      },
      "source": [
        "# Versión 2, como función\n",
        "def semaforo(color='rojo',tipoVehiculo='normal'): #Se asignan valores por defecto a los parámetros\n",
        "    try:\n",
        "        color = color.upper()                  # se pasa a mayúsculas para que las comparaciones sean efectivas\n",
        "        tipoVehiculo = tipoVehiculo.lower()    # se pasa a mayúsculas para que las comparaciones sean efectivas\n",
        "        if tipoVehiculo=='emergencia':         # Observe se compara en minúsculas\n",
        "            sal = 'Vehículo de emergencia, paso permitido'\n",
        "        else:\n",
        "            if color=='ROJO':                  # Observe que se compara en mayúscula\n",
        "                sal = 'Paso no permitido'\n",
        "            else:\n",
        "                if color=='AMARILLO':\n",
        "                    sal = 'Paso con precaución'\n",
        "                else:\n",
        "                    if color == 'VERDE':\n",
        "                        sal = 'Paso permitido'\n",
        "                    else:\n",
        "                        sal = 'Semáforo descompuesto, pase con precaución'\n",
        "    except:\n",
        "        sal = 'Semáforo descompuesto, pase con precaución'\n",
        "    return sal\n",
        "\n",
        "semaforo()\n"
      ],
      "execution_count": null,
      "outputs": []
    },
    {
      "cell_type": "code",
      "metadata": {
        "id": "1XSJUVc90Zjf",
        "outputId": "49fcbd1e-b099-475d-a68a-d4abb80929ed"
      },
      "source": [
        "\"\"\"\n",
        "Una nueva modificación del programa del semáforo, en la cual se introduce la regla que los vehiculos de emergencia\n",
        "tienen paso permitido si se encuentran atendiendo una urgencia, de forma que la tabla queda así:\n",
        "\n",
        "LUCES             TIPO VEHÍCULO         ACCIÓN                                         ATENDIENDO\n",
        "-------------------------------------------------------------------------------------------------\n",
        "verde             normal                Paso permitido                                  True\n",
        "Amarillo          normal                Paso con precaución                             True\n",
        "Rojo              normal                paso no permitido                               True\n",
        "verde             emergencia            Vehículo de emergencia, paso permitido          True\n",
        "Amarillo          emergencia            Vehículo de emergencia, paso permitido          True\n",
        "Rojo              emergencia            Vehículo de emergencia, paso permitido          True \n",
        "verde             normal                Paso permitido                                  False\n",
        "Amarillo          normal                Paso con precaución                             False\n",
        "Rojo              normal                paso no permitido                               False\n",
        "verde             emergencia            Paso permitido                                  False\n",
        "Amarillo          emergencia            Paso con precaución                             False\n",
        "Rojo              emergencia            Paso no permitido                               False \n",
        "\n",
        "Entrada : color de la luz en el semáforo, tipo de vehiculo en el cruce y si se encuentra o no atendiendo una urgencia\n",
        "Proceso : Comparar el tipo de vehículo y el color de la luz del semáforo contra los valores de la tabla\n",
        "Salida  : Acción recomendada, (si la entrada es inválida indicar Semáforo descompuesto, pase con precaución)\n",
        "\n",
        "\"\"\"\n",
        "# Versión 1, sin utilizar funciones\n",
        "try:\n",
        "    color = input('Indique el color de la luz del semáforo     : ')\n",
        "    color = color.upper()                  # se pasa a mayúsculas para que las comparaciones sean efectivas\n",
        "    tipoVehiculo = input('Indique el tipo de vehículo                 : ')\n",
        "    tipoVehiculo = tipoVehiculo.lower()    # se pasa a mayúsculas para que las comparaciones sean efectivas\n",
        "    atiendeUrgencia = input('Se encuentra atendiendo una urgencia? [S/N] : ')\n",
        "    atiendeUrgencia = atiendeUrgencia.lower()    \n",
        "    if tipoVehiculo=='emergencia' and atiendeUrgencia=='S':         \n",
        "        sal = 'Vehículo de emergencia, paso permitido'\n",
        "    else:\n",
        "        if color=='ROJO':\n",
        "            sal = 'Paso no permitido'\n",
        "        else:\n",
        "            if color=='AMARILLO':\n",
        "                sal = 'Paso con precaución'\n",
        "            else:\n",
        "                if color == 'VERDE':\n",
        "                    sal = 'Paso permitido'\n",
        "                else:\n",
        "                    sal = 'Semáforo descompuesto, pase con precaución'\n",
        "except:\n",
        "    sal = 'Semáforo descompuesto, pase con precaución'\n",
        "    \n",
        "print(sal)\n"
      ],
      "execution_count": null,
      "outputs": [
        {
          "output_type": "stream",
          "text": [
            "Indique el color de la luz del semáforo     : rojo\n",
            "Indique el tipo de vehículo                 : emergencia\n",
            "Se encuentra atendiendo una urgencia? [S/N] : N\n",
            "Paso no permitido\n"
          ],
          "name": "stdout"
        }
      ]
    },
    {
      "cell_type": "code",
      "metadata": {
        "id": "wc1FyxFK0Zjg",
        "outputId": "12efe1f9-015b-4b85-9991-70c3947eb9e1"
      },
      "source": [
        "# Versión 2, como funcion\n",
        "def semaforo(color='rojo',tipoVehiculo='normal',atiendeUrgencia='N'):\n",
        "    try:\n",
        "        color = color.upper()                  # se pasa a mayúsculas para que las comparaciones sean efectivas\n",
        "        tipoVehiculo = tipoVehiculo.lower()    # se pasa a mayúsculas para que las comparaciones sean efectivas\n",
        "        atiendeUrgencia = atiendeUrgencia.lower()    \n",
        "        if tipoVehiculo=='emergencia' and atiendeUrgencia=='S':         \n",
        "            sal = 'Vehículo de emergencia, paso permitido'\n",
        "        else:\n",
        "            if color=='ROJO':\n",
        "                sal = 'Paso no permitido'\n",
        "            else:\n",
        "                if color=='AMARILLO':\n",
        "                    sal = 'Paso con precaución'\n",
        "                else:\n",
        "                    if color == 'VERDE':\n",
        "                        sal = 'Paso permitido'\n",
        "                    else:\n",
        "                        sal = 'Semáforo descompuesto, pase con precaución'\n",
        "    except:\n",
        "        sal = 'Semáforo descompuesto, pase con precaución'\n",
        "    return sal\n",
        "\n",
        "semaforo('rojo','emergencia','s')\n",
        "    \n"
      ],
      "execution_count": null,
      "outputs": [
        {
          "output_type": "execute_result",
          "data": {
            "text/plain": [
              "'Paso no permitido'"
            ]
          },
          "metadata": {
            "tags": []
          },
          "execution_count": 14
        }
      ]
    },
    {
      "cell_type": "code",
      "metadata": {
        "id": "Wqzh0B5x1Iph",
        "outputId": "ac595b56-40ba-4f3c-dcec-a07e09046880"
      },
      "source": [
        "\"\"\"\n",
        "    El Índice de Masa Corporal (IMC) se calcula como la relación que existe entre el peso (expresado en Kgs) y \n",
        "    la altura expresada en metros, como un efecto colateral de la pandemia COVID-19, se detectó un aumento\n",
        "    de caso de obesidad. Proponga un programa que tome el peso y la altura de una persona y devuelva el riesgo\n",
        "    que existe acorde a la siguiente tabla:\n",
        "\n",
        "    IMC                Riesgo\n",
        "    <15                Delgadez extrema\n",
        "    entre 15 y 30      Peso saludable\n",
        "    entre 30 y 40      Obesidad\n",
        "    >40                Obesidad Mórbida\n",
        "    \n",
        "Entrada : peso (Kg) y estatura (mts)\n",
        "Proceso : calcular el IMC(peso/estatura^2) y buscar dentro de la tabla a cual rango corresponde\n",
        "Salida  : Mensaje de Riesgo o Error en los numeros\n",
        "\n",
        "\"\"\"\n",
        "#Utilización del if múltiple\n",
        "#Versión 1 sin funciones\n",
        "try:\n",
        "    peso = int(input('Por favor digite el peso de la persona (Kgs)    : '))\n",
        "    estatura = float(input('Por favor digite la esttura de la persona (mts) : '))\n",
        "    if peso<=0 or estatura<=0:\n",
        "        sal = 'Error en los números'\n",
        "    else:\n",
        "        IMC = peso/estatura**2      # recordar ** es el operador para elevar a una potencia\n",
        "        if IMC<15:\n",
        "            sal = 'Delgadez extrema'\n",
        "        elif IMC <=30:\n",
        "            sal = 'Peso saludable'\n",
        "        elif IMC<=40:\n",
        "            sal='Obesidad'\n",
        "        else:\n",
        "            sal='Obesidad Mórbida'\n",
        "except:\n",
        "    sal = 'Error en los números'\n",
        "print(sal)"
      ],
      "execution_count": null,
      "outputs": [
        {
          "output_type": "stream",
          "text": [
            "Por favor digite el peso de la persona (Kgs)    : 90\n",
            "Por favor digite la esttura de la persona (mts) : 1.78\n",
            "Peso saludable\n"
          ],
          "name": "stdout"
        }
      ]
    },
    {
      "cell_type": "code",
      "metadata": {
        "id": "InojKvde1Ipj",
        "outputId": "3ebcd4cb-ef33-472c-e340-71bea3f3c71e"
      },
      "source": [
        "#Utilización del if múltiple\n",
        "#Versión 2 con funciones\n",
        "def IMC(peso,estatura):\n",
        "    try:\n",
        "        if peso<=0 or estatura<=0:\n",
        "            sal = 'Error en los números'\n",
        "        else:\n",
        "            res = peso/estatura**2      # recordar ** es el operador para elevar a una potencia\n",
        "            if res<15:\n",
        "                sal = 'Delgadez extrema'\n",
        "            elif res <=30:\n",
        "                sal = 'Peso saludable'\n",
        "            elif res<=40:\n",
        "                sal='Obesidad'\n",
        "            else:\n",
        "                sal='Obesidad Mórbida'\n",
        "    except:\n",
        "        sal = 'Error en los números'\n",
        "    return sal\n",
        "        \n",
        "IMC(90,1.82)"
      ],
      "execution_count": null,
      "outputs": [
        {
          "output_type": "execute_result",
          "data": {
            "text/plain": [
              "'Peso saludable'"
            ]
          },
          "metadata": {
            "tags": []
          },
          "execution_count": 4
        }
      ]
    },
    {
      "cell_type": "code",
      "metadata": {
        "id": "zRSopCNQ1Ipj",
        "outputId": "2deb488c-b899-4911-f0f5-df8d21543745"
      },
      "source": [
        "\"\"\"\n",
        "Suponga que un conductor desea determinar que hacer frente a un semáforo\n",
        "\n",
        "LUCES             ACCIÓN\n",
        "----------------------------------------\n",
        "verde             Paso permitido\n",
        "Amarillo          Paso con precaución\n",
        "Rojo              paso no permitido\n",
        "\n",
        "Asuma que no es el conductor de un vehículo de emergencia.\n",
        "\n",
        "Entrada : Color de la luz\n",
        "Proceso : Comparar el color de la luz contra la tabla de acciones permitidas en el semáforo\n",
        "Salida  : Un mensaje indicando la acción (si la entrada es inválida indicar Semáforo descompuesto, pase con precaución)\n",
        "\n",
        "\"\"\"\n",
        "# Versión 1, sin utilizar funciones\n",
        "try:\n",
        "    color = input('Indique el color de la luz del semáforo : ')\n",
        "    color = color.upper()        # se pasa a mayúsculas para que las comparaciones sean efectivas\n",
        "    if color=='ROJO':\n",
        "        sal = 'Paso no permitido'\n",
        "    elif color=='AMARILLO':\n",
        "        sal = 'Paso con precaución'\n",
        "    elif color == 'VERDE':\n",
        "        sal = 'Paso permitido'\n",
        "    else:\n",
        "        sal = 'Semáforo descompuesto, pase con precaución'\n",
        "except:\n",
        "    sal = 'Semáforo descompuesto, pase con precaución'\n",
        "    \n",
        "print(sal)\n"
      ],
      "execution_count": null,
      "outputs": [
        {
          "output_type": "stream",
          "text": [
            "Indique el color de la luz del semáforo : rojo\n",
            "Paso no permitido\n"
          ],
          "name": "stdout"
        }
      ]
    },
    {
      "cell_type": "code",
      "metadata": {
        "id": "ZtNysMaf1Ipk",
        "outputId": "a0b74f8f-1d7a-4305-8a67-e3dc192d8075"
      },
      "source": [
        "# Versión 2, como una función\n",
        "def semaforo(color):\n",
        "    try:\n",
        "        color = color.upper()        # se pasa a mayúsculas para que las comparaciones sean efectivas\n",
        "        if color=='ROJO':\n",
        "            sal = 'Paso no permitido'\n",
        "        elif color=='AMARILLO':\n",
        "            sal = 'Paso con precaución'\n",
        "        elif color == 'VERDE':\n",
        "            sal = 'Paso permitido'\n",
        "        else:\n",
        "            sal = 'Semáforo descompuesto, pase con precaución'\n",
        "    except:\n",
        "        sal = 'Semáforo descompuesto, pase con precaución'\n",
        "    return sal\n",
        "    \n",
        "semaforo('verde')"
      ],
      "execution_count": null,
      "outputs": [
        {
          "output_type": "execute_result",
          "data": {
            "text/plain": [
              "'Paso permitido'"
            ]
          },
          "metadata": {
            "tags": []
          },
          "execution_count": 1
        }
      ]
    },
    {
      "cell_type": "code",
      "metadata": {
        "id": "THVEAbm31Ipk",
        "outputId": "9417460b-ef29-4fcb-9e64-fdf2fa2d1718"
      },
      "source": [
        "\"\"\"\n",
        "Una modificación del programa del semáforo, en la cual se introduce la regla que los vehiculos de emergencia\n",
        "siempre tienen paso permitido, de forma que la tabla queda así:\n",
        "\n",
        "LUCES             TIPO VEHÍCULO         ACCIÓN\n",
        "------------------------------------------------\n",
        "verde             normal                Paso permitido\n",
        "Amarillo          normal                Paso con precaución\n",
        "Rojo              normal                paso no permitido\n",
        "verde             emergencia            Vehículo de emergencia, paso permitido\n",
        "Amarillo          emergencia            Vehículo de emergencia, paso permitido\n",
        "Rojo              emergencia            Vehículo de emergencia, paso permitido\n",
        "\n",
        "Entrada : color de la luz en el semáforo y tipo de vehiculo en el cruce\n",
        "Proceso : Comparar el tipo de vehículo y el color de la luz del semáforo contra los valores de la tabla\n",
        "Salida  : Acción recomendada, (si la entrada es inválida indicar Semáforo descompuesto, pase con precaución)\n",
        "\n",
        "\"\"\"\n",
        "# Versión 1, sin utilizar funciones\n",
        "try:\n",
        "    color = input('Indique el color de la luz del semáforo : ')\n",
        "    color = color.upper()                  # se pasa a mayúsculas para que las comparaciones sean efectivas\n",
        "    tipoVehiculo = input('Indique el tipo de vehículo             : ')\n",
        "    tipoVehiculo = tipoVehiculo.lower()    # se pasa a mayúsculas para que las comparaciones sean efectivas\n",
        "    if tipoVehiculo=='emergencia':         # Observe se compara en minúsculas\n",
        "        sal = 'Vehículo de emergencia, paso permitido'\n",
        "    elif color=='ROJO':\n",
        "        sal = 'Paso no permitido'\n",
        "    elif color=='AMARILLO':\n",
        "        sal = 'Paso con precaución'\n",
        "    elif color == 'VERDE':\n",
        "        sal = 'Paso permitido'\n",
        "    else:\n",
        "        sal = 'Semáforo descompuesto, pase con precaución'\n",
        "except:\n",
        "    sal = 'Semáforo descompuesto, pase con precaución'\n",
        "    \n",
        "print(sal)\n"
      ],
      "execution_count": null,
      "outputs": [
        {
          "output_type": "stream",
          "text": [
            "Indique el color de la luz del semáforo : rojo\n",
            "Indique el tipo de vehículo             : normal\n",
            "Paso no permitido\n"
          ],
          "name": "stdout"
        }
      ]
    },
    {
      "cell_type": "code",
      "metadata": {
        "id": "2mcfbCg01Ipm",
        "outputId": "8de729eb-36e6-41d7-8612-5895167dcc9f"
      },
      "source": [
        "# Versión 2, como función\n",
        "def semaforo(color='rojo',tipoVehiculo='normal'): #Se asignan valores por defecto a los parámetros\n",
        "    try:\n",
        "        color = color.upper()                  # se pasa a mayúsculas para que las comparaciones sean efectivas\n",
        "        tipoVehiculo = tipoVehiculo.lower()    # se pasa a mayúsculas para que las comparaciones sean efectivas\n",
        "        if tipoVehiculo=='emergencia':         # Observe se compara en minúsculas\n",
        "            sal = 'Vehículo de emergencia, paso permitido'\n",
        "        elif color=='ROJO':                    # Observe que se compara en mayúscula\n",
        "            sal = 'Paso no permitido'\n",
        "        elif color=='AMARILLO':\n",
        "            sal = 'Paso con precaución'\n",
        "        elif color == 'VERDE':\n",
        "            sal = 'Paso permitido'\n",
        "        else:\n",
        "            sal = 'Semáforo descompuesto, pase con precaución'\n",
        "    except:\n",
        "        sal = 'Semáforo descompuesto, pase con precaución'\n",
        "    return sal\n",
        "\n",
        "semaforo()\n"
      ],
      "execution_count": null,
      "outputs": [
        {
          "output_type": "execute_result",
          "data": {
            "text/plain": [
              "'Paso no permitido'"
            ]
          },
          "metadata": {
            "tags": []
          },
          "execution_count": 3
        }
      ]
    },
    {
      "cell_type": "code",
      "metadata": {
        "id": "YyvJM5bn1Ipm",
        "outputId": "73079b39-542d-4fa9-8e1a-a381051ae851"
      },
      "source": [
        "\"\"\"\n",
        "Una nueva modificación del programa del semáforo, en la cual se introduce la regla que los vehiculos de emergencia\n",
        "tienen paso permitido si se encuentran atendiendo una urgencia, de forma que la tabla queda así:\n",
        "\n",
        "LUCES             TIPO VEHÍCULO         ACCIÓN                                         ATENDIENDO\n",
        "-------------------------------------------------------------------------------------------------\n",
        "verde             normal                Paso permitido                                  True\n",
        "Amarillo          normal                Paso con precaución                             True\n",
        "Rojo              normal                paso no permitido                               True\n",
        "verde             emergencia            Vehículo de emergencia, paso permitido          True\n",
        "Amarillo          emergencia            Vehículo de emergencia, paso permitido          True\n",
        "Rojo              emergencia            Vehículo de emergencia, paso permitido          True \n",
        "verde             normal                Paso permitido                                  False\n",
        "Amarillo          normal                Paso con precaución                             False\n",
        "Rojo              normal                paso no permitido                               False\n",
        "verde             emergencia            Paso permitido                                  False\n",
        "Amarillo          emergencia            Paso con precaución                             False\n",
        "Rojo              emergencia            Paso no permitido                               False \n",
        "\n",
        "Entrada : color de la luz en el semáforo, tipo de vehiculo en el cruce y si se encuentra o no atendiendo una urgencia\n",
        "Proceso : Comparar el tipo de vehículo y el color de la luz del semáforo contra los valores de la tabla\n",
        "Salida  : Acción recomendada, (si la entrada es inválida indicar Semáforo descompuesto, pase con precaución)\n",
        "\n",
        "\"\"\"\n",
        "# Versión 1, sin utilizar funciones\n",
        "try:\n",
        "    color = input('Indique el color de la luz del semáforo     : ')\n",
        "    color = color.upper()                  # se pasa a mayúsculas para que las comparaciones sean efectivas\n",
        "    tipoVehiculo = input('Indique el tipo de vehículo                 : ')\n",
        "    tipoVehiculo = tipoVehiculo.lower()    # se pasa a mayúsculas para que las comparaciones sean efectivas\n",
        "    atiendeUrgencia = input('Se encuentra atendiendo una urgencia? [S/N] : ')\n",
        "    atiendeUrgencia = atiendeUrgencia.lower()    \n",
        "    if tipoVehiculo=='emergencia' and atiendeUrgencia=='S':         \n",
        "        sal = 'Vehículo de emergencia, paso permitido'\n",
        "    elif color=='ROJO':\n",
        "        sal = 'Paso no permitido'\n",
        "    elif color=='AMARILLO':\n",
        "        sal = 'Paso con precaución'\n",
        "    elif color == 'VERDE':\n",
        "        sal = 'Paso permitido'\n",
        "    else:\n",
        "        sal = 'Semáforo descompuesto, pase con precaución'\n",
        "except:\n",
        "    sal = 'Semáforo descompuesto, pase con precaución'\n",
        "    \n",
        "print(sal)\n",
        "\n"
      ],
      "execution_count": null,
      "outputs": [
        {
          "output_type": "stream",
          "text": [
            "Indique el color de la luz del semáforo     : rojo\n",
            "Indique el tipo de vehículo                 : emergencia\n",
            "Se encuentra atendiendo una urgencia? [S/N] : N\n",
            "Paso no permitido\n"
          ],
          "name": "stdout"
        }
      ]
    },
    {
      "cell_type": "code",
      "metadata": {
        "id": "XQiahh4j1Ipn",
        "outputId": "a44e9187-865a-4a74-c834-c5ed0d941bfd"
      },
      "source": [
        "# Versión 2, como funcion\n",
        "def semaforo(color='rojo',tipoVehiculo='normal',atiendeUrgencia='N'):\n",
        "    try:\n",
        "        color = color.upper()                  # se pasa a mayúsculas para que las comparaciones sean efectivas\n",
        "        tipoVehiculo = tipoVehiculo.lower()    # se pasa a mayúsculas para que las comparaciones sean efectivas\n",
        "        atiendeUrgencia = atiendeUrgencia.lower()    \n",
        "        if tipoVehiculo=='emergencia' and atiendeUrgencia=='S':         \n",
        "            sal = 'Vehículo de emergencia, paso permitido'\n",
        "        elif color=='ROJO':\n",
        "            sal = 'Paso no permitido'\n",
        "        elif color=='AMARILLO':\n",
        "            sal = 'Paso con precaución'\n",
        "        elif color == 'VERDE':\n",
        "            sal = 'Paso permitido'\n",
        "        else:\n",
        "            sal = 'Semáforo descompuesto, pase con precaución'\n",
        "    except:\n",
        "        sal = 'Semáforo descompuesto, pase con precaución'\n",
        "    return sal\n",
        "\n",
        "semaforo('rojo','emergencia','s')\n",
        "    \n"
      ],
      "execution_count": null,
      "outputs": [
        {
          "output_type": "execute_result",
          "data": {
            "text/plain": [
              "'Paso no permitido'"
            ]
          },
          "metadata": {
            "tags": []
          },
          "execution_count": 4
        }
      ]
    }
  ]
}