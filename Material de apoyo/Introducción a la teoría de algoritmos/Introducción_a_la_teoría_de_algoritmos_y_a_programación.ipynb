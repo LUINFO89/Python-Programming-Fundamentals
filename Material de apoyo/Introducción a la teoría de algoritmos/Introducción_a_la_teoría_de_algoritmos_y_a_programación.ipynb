{
  "nbformat": 4,
  "nbformat_minor": 0,
  "metadata": {
    "colab": {
      "name": "Introducción a la teoría de algoritmos y  a programación.ipynb",
      "provenance": [],
      "collapsed_sections": []
    },
    "kernelspec": {
      "name": "python3",
      "display_name": "Python 3"
    }
  },
  "cells": [
    {
      "cell_type": "code",
      "metadata": {
        "id": "ffLwos7NqeXA"
      },
      "source": [
        "\"\"\"\n",
        "\"\"\"\n",
        "# Númericos (Enteros, Flotante, Complejos)\n",
        "#      Entero   : 25 80\n",
        "#      Float    : 2.50, 3.14, -25.33\n",
        "#      Complejo : 2 - 3.5i\n",
        "#\n",
        "# Texto (String) \n",
        "#       \"Néstor Alberto Torres Cuesta\"\n",
        "#       'ntorres@uninorte.edu.co'\n",
        "# \n",
        "# Lógicos (Boolean)\n",
        "#       Cierto (True)\n",
        "#       Falso (False)\n",
        "#\n",
        "# Especiales\n",
        "#   Diccionarios\n",
        "#   Tuplas\n",
        "#   Conjuntos\n",
        "#   Listas  \n"
      ],
      "execution_count": null,
      "outputs": []
    },
    {
      "cell_type": "code",
      "metadata": {
        "id": "fQM4l_REsRYz",
        "colab": {
          "base_uri": "https://localhost:8080/",
          "height": 36
        },
        "outputId": "188163ca-7c46-4356-e039-086b9d38eba6"
      },
      "source": [
        "# Operadores\n",
        "#\n",
        "#   Aritméticos (Operaciones aritméticas)\n",
        "#     Suma                        : +\n",
        "#     Resta                       : -\n",
        "#     Multiplicación              : *\n",
        "#     División                    : / \n",
        "#     Cociente (División entera)  : //\n",
        "#     Módulo (Residuo)            : %\n",
        "#     Potencia (Elevar a)         : ** \n",
        "#\n",
        "#   Relacionales (Establecen una relación entre elementos)\n",
        "#     Mayor que (GT)              : >\n",
        "#     Mayor o igual a (GE)        : >=\n",
        "#     Menor que (LT)              : <\n",
        "#     Menor o igual a (LE)        : <=\n",
        "#     Igual (EQ)                  : ==\n",
        "#     Diferente (NE)              : !=    \n",
        "#\n",
        "#   Lógicos (Operaciones entre datos del tipo lógico)\n",
        "#     Y (and)                     : and\n",
        "#     O (or)                      : or \n",
        "#     No (not)                    : not :: !  \n",
        "#\n",
        "56+25     # Es una suma de enteros, da como resultado 81\n",
        "'56'+'25' # Es una concatenación de textos, da como resultado '5625'\n",
        "3*4       # Multiplicacion entre enteror, da como resultado 12     \n",
        "'3'*4     # Acá se convierte en una repeticios de texto, da como resultado '3333'\n",
        "'3'*4"
      ],
      "execution_count": null,
      "outputs": [
        {
          "output_type": "execute_result",
          "data": {
            "application/vnd.google.colaboratory.intrinsic+json": {
              "type": "string"
            },
            "text/plain": [
              "'3333'"
            ]
          },
          "metadata": {
            "tags": []
          },
          "execution_count": 16
        }
      ]
    },
    {
      "cell_type": "code",
      "metadata": {
        "id": "4fmqA2pUxEXF",
        "colab": {
          "base_uri": "https://localhost:8080/",
          "height": 35
        },
        "outputId": "82b780e8-269a-4fd2-9ae2-df1af5ba8fe7"
      },
      "source": [
        "\"\"\"\n",
        " \n",
        " Tomo un numero y quiero saber cual es el último dígito (Pico y cedula, NIT - DV, DNI)\n",
        " 1. Tomar el número\n",
        " 2. El residuo (Módulo) entre 10\n",
        " 3. Escribe el resultado\n",
        "\n",
        "\"\"\"\n",
        "17953454%10\n"
      ],
      "execution_count": null,
      "outputs": [
        {
          "output_type": "execute_result",
          "data": {
            "text/plain": [
              "4"
            ]
          },
          "metadata": {
            "tags": []
          },
          "execution_count": 19
        }
      ]
    },
    {
      "cell_type": "code",
      "metadata": {
        "id": "IqcX-5JPyS_5",
        "colab": {
          "base_uri": "https://localhost:8080/",
          "height": 54
        },
        "outputId": "eb6293be-6701-4247-c072-4160d3da6d5d"
      },
      "source": [
        "\"\"\"\n",
        " \n",
        " Variable : Algo para guardar datos. Las variables puede almacenar sólo un valor a la vez. }\n",
        " Toda variable debe tener un nombre.\n",
        "    a) Puede comenzar por _\n",
        "    b) Debe contener al menos una letra (el primer símbolo diferente de subrayado)\n",
        "    c) A partir de ahí puede contener la cantidad deseada de letras, subrayados o dígitos\n",
        "\n",
        "  edad ==> valido                  nota1 ==> valido            1eranota ==> No válido\n",
        "  mi_dirireccion ==> válido        mi-direccion ==> No valido \n",
        "\"\"\"\n",
        "nota1 = 3.85\n",
        "nota2 = 100\n",
        "nota3 = 2.4\n",
        "print(nota1,nota2,nota3)\n",
        "nota1 = 50\n",
        "print(nota1,nota2,nota3)\n"
      ],
      "execution_count": null,
      "outputs": [
        {
          "output_type": "stream",
          "text": [
            "3.85 100 2.4\n",
            "50 100 2.4\n"
          ],
          "name": "stdout"
        }
      ]
    },
    {
      "cell_type": "markdown",
      "metadata": {
        "id": "FyeEotJ5qizt"
      },
      "source": [
        "Conceptos requiridos:\n",
        "- Dato   (Existe)\n",
        "- Tipos  (Tendrá asociado)\n",
        "- Variables o Constantes (Guardarlo)"
      ]
    }
  ]
}