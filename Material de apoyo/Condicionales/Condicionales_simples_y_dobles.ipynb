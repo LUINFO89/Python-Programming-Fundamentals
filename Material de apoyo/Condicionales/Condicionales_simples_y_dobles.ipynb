{
  "nbformat": 4,
  "nbformat_minor": 0,
  "metadata": {
    "colab": {
      "name": "Condicionales simples y dobles.ipynb",
      "provenance": [],
      "collapsed_sections": []
    },
    "kernelspec": {
      "name": "python3",
      "display_name": "Python 3"
    },
    "language_info": {
      "name": "python"
    }
  },
  "cells": [
    {
      "cell_type": "code",
      "metadata": {
        "id": "Mh7X-QC8yL7_"
      },
      "source": [
        "\"\"\"\n",
        "    Condicionales (Limitan hacer algo al cumplimiento de una condicion). \n",
        "      Ejemplo: Si no aseas el cuarto no sales a jugar\n",
        "      Pueden ser: Simples, Dobles, Anidadas, Múltiples\n",
        "\n",
        "\"\"\"\n",
        "# Condicional Simple\n",
        "# si Condicion entonces                        ==> if Condicion:\n",
        "#    accion1                                   ==>    accion1\n",
        "#    accion2                                   ==>    accion  \n",
        "#    ...                                       ==>    ...\n",
        "# fsi                                          ==>\n",
        "# accion_m                                     ==> accion_m \n"
      ],
      "execution_count": null,
      "outputs": []
    },
    {
      "cell_type": "code",
      "metadata": {
        "id": "Mz7VTTaIo8GD",
        "colab": {
          "base_uri": "https://localhost:8080/",
          "height": 51
        },
        "outputId": "73a2ecc5-b151-4793-b59a-a170d259305f"
      },
      "source": [
        "#Ejemplo de condicional simple\n",
        "A = int (input(\"Digite el valor para A:\"))\n",
        "B = int (input(\"Digite el valor para B:\"))\n",
        "\n",
        "if B != 0:\n",
        "  #E ← A div B; #(cociente división entera)\n",
        "  E =  A // B \n",
        "\n",
        "  #D ←  A / B; #(cociente División real)\n",
        "  D = A / B\n",
        "\n",
        "  #C ← A mod B;  #(Residuo división)\n",
        "  C = A % B\n",
        "\n",
        "  print(\"Cociente división entera:\", E)\n",
        "  print(\"Cociente división real:\", D)\n",
        "  print(\"Residuo división:\", C)"
      ],
      "execution_count": null,
      "outputs": [
        {
          "output_type": "stream",
          "text": [
            "Digite el valor para A:45\n",
            "Digite el valor para B:0\n"
          ],
          "name": "stdout"
        }
      ]
    },
    {
      "cell_type": "code",
      "metadata": {
        "id": "QmapDDq7pnMV",
        "colab": {
          "base_uri": "https://localhost:8080/",
          "height": 68
        },
        "outputId": "8f2b364e-aa41-48c6-d3d9-9ee7a1dcbb0f"
      },
      "source": [
        "#Ejemplo de condicional doble\n",
        "A = int (input(\"Digite el valor para A:\"))\n",
        "B = int (input(\"Digite el valor para B:\"))\n",
        "\n",
        "if B != 0:\n",
        "  #E ← A div B; #(cociente división entera)\n",
        "  E =  A // B \n",
        "\n",
        "  #D ←  A / B; #(cociente División real)\n",
        "  D = A / B\n",
        "\n",
        "  #C ← A mod B;  #(Residuo división)\n",
        "  C = A % B\n",
        "\n",
        "  print(\"Cociente división entera:\", E)\n",
        "  print(\"Cociente división real:\", D)\n",
        "  print(\"Residuo división:\", C)\n",
        "\n",
        "else: \n",
        "  print(\"No es posible por cero.\")"
      ],
      "execution_count": null,
      "outputs": [
        {
          "output_type": "stream",
          "text": [
            "Digite el valor para A:34\n",
            "Digite el valor para B:0\n",
            "No es posible por cero.\n"
          ],
          "name": "stdout"
        }
      ]
    },
    {
      "cell_type": "code",
      "metadata": {
        "id": "8s2mF3M_riid",
        "colab": {
          "base_uri": "https://localhost:8080/",
          "height": 85
        },
        "outputId": "ee4c25fa-cf0b-4f19-97fa-e1e167b40229"
      },
      "source": [
        "#Ejemplo de condicional doble\n",
        "A = int (input(\"Digite el valor para A:\"))\n",
        "B = int (input(\"Digite el valor para B:\"))\n",
        "\n",
        "if B == 0:\n",
        "  print(\"No es posible por cero.\")\n",
        "else:\n",
        "  #E ← A div B; #(cociente división entera)\n",
        "  E =  A // B \n",
        "\n",
        "  #D ←  A / B; #(cociente División real)\n",
        "  D = A / B\n",
        "\n",
        "  #C ← A mod B;  #(Residuo división)\n",
        "  C = A % B\n",
        "\n",
        "  print(\"Cociente división entera:\", E)\n",
        "  print(\"Cociente división real:\", D)\n",
        "  print(\"Residuo división:\", C)\n",
        "\n",
        "print(\"Ya me salí del condicional\")"
      ],
      "execution_count": null,
      "outputs": [
        {
          "output_type": "stream",
          "text": [
            "Digite el valor para A:5\n",
            "Digite el valor para B:0\n",
            "No es posible por cero.\n",
            "Ya me salí del condicional\n"
          ],
          "name": "stdout"
        }
      ]
    },
    {
      "cell_type": "code",
      "metadata": {
        "id": "rWTHy5bhilMh",
        "colab": {
          "base_uri": "https://localhost:8080/",
          "height": 52
        },
        "outputId": "ab5d9fc0-bdfc-4a4f-cd13-8180f5e534da"
      },
      "source": [
        "numero = int (input(\"Ingrese un número del 1 al 5: \"))\n",
        "\n",
        "vocales = {\n",
        "    1 : \"a\",\n",
        "    2 : \"e\",\n",
        "    3 : \"i\",\n",
        "    4 : \"o\",\n",
        "    5 : \"u\"\n",
        "}\n",
        "print(vocales.get(numero,\"Incorrecto\"))"
      ],
      "execution_count": null,
      "outputs": [
        {
          "output_type": "stream",
          "text": [
            "Ingrese un número del 1 al 5: 4\n"
          ],
          "name": "stdout"
        },
        {
          "output_type": "execute_result",
          "data": {
            "application/vnd.google.colaboratory.intrinsic+json": {
              "type": "string"
            },
            "text/plain": [
              "'o'"
            ]
          },
          "metadata": {
            "tags": []
          },
          "execution_count": 25
        }
      ]
    }
  ]
}