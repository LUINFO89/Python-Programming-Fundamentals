{
  "nbformat": 4,
  "nbformat_minor": 0,
  "metadata": {
    "colab": {
      "name": " Condicionales múltiples y anidados.ipynb",
      "provenance": [],
      "collapsed_sections": []
    },
    "kernelspec": {
      "name": "python3",
      "display_name": "Python 3"
    }
  },
  "cells": [
    {
      "cell_type": "code",
      "metadata": {
        "id": "k304cyB-1Ipb"
      },
      "source": [
        "\"\"\"\n",
        " Condicionales (Continuación)\n",
        " \n",
        " Otra forma de las instrucciones condicionales, son los condicionales múltiples, en esencia son una versión compacta del si anidado \n",
        " por el lado del sino, se utiliza la instrucciónsinosi que establece una negacion y al mismo tiempo otra pregunta.\n",
        " \n",
        " condicionales múltiples                                                \n",
        " Si condicion1 Entonces                                if condicion1:\n",
        "    ...                                                     ...\n",
        " Sinosi condicion2 Entonces                            elif condicion2:\n",
        "    ...                                                     ...\n",
        " Sinosi condicion3 Entonces                            elif condicio3:\n",
        "    ...                                                     ...\n",
        " .                                                     .\n",
        " .                                                     .\n",
        " .                                                     .\n",
        " Sino                                                  else:\n",
        "    ...                                                     ...\n",
        " FSi\n",
        " \n",
        " \n",
        "Una diferencia interesante con el si anidado, es que el si multiple cada una de las diferentes ramas, se mantiene al mismo \n",
        "nivel de identación.\n",
        " \n",
        "\"\"\""
      ],
      "execution_count": null,
      "outputs": []
    },
    {
      "cell_type": "code",
      "metadata": {
        "id": "xx9QC0FD0ZjU"
      },
      "source": [
        "\"\"\"\n",
        " Condicionales (Continuación)\n",
        " \n",
        " Otra forma de las instrucciones condicionales, permite colocar un si dentro de otro, a este tipo de construcciones se les\n",
        " conoce como condicionales anidados. El anidamiento puede ocurrir tanto en el si como en el sino.\n",
        " \n",
        " Anidamiento en el si                                                \n",
        " Si condicion1 Entonces                                if condicion1:\n",
        "    ...                                                     ...\n",
        "    Si Condicion2 Entonces                                  if condicion2:\n",
        "       ...                                                       ...  \n",
        "    fsi                                                     ... \n",
        "    ...                                                else: \n",
        " Sino                                                       ...\n",
        "    ...\n",
        " FSi\n",
        " \n",
        " \n",
        " Anidamiento en el sino\n",
        " Si condicion1 Entonces                                if condicion1: \n",
        "    ...                                                     ...\n",
        " Sino                                                  else: \n",
        "    ...                                                     ...\n",
        "    Si Condicion2 Entonces                                  if condicion2:\n",
        "       ...                                                       ... \n",
        "    fsi                                                     ...\n",
        "    ...\n",
        " FSi\n",
        " \n",
        "Es posible combinarlos de la forma en que sea necesario\n",
        " \n",
        "\"\"\""
      ],
      "execution_count": null,
      "outputs": []
    },
    {
      "cell_type": "markdown",
      "metadata": {
        "id": "1WH_mQPBXxx5"
      },
      "source": [
        "Escriba un programa que me dado un número entero me diga el número es positivo, negativo o cero.\n",
        "\n",
        "* X = 0  → Escribir “Cero”\n",
        "* X > 0  → Escribir “Positivo”\n",
        "* X < 0  → Escribir “Negativo”"
      ]
    },
    {
      "cell_type": "code",
      "metadata": {
        "id": "LEvLZ4lkXRro",
        "colab": {
          "base_uri": "https://localhost:8080/",
          "height": 51
        },
        "outputId": "3c8825e6-4991-417e-b8c0-3fb394382553"
      },
      "source": [
        "x = int (input(\"Digite un número:\"))\n",
        "\n",
        "if x == 0:\n",
        "  print(\"Cero\")\n",
        "elif x>0:\n",
        "  print(\"Positivo\")\n",
        "else:\n",
        "  print(\"Negativo\")"
      ],
      "execution_count": null,
      "outputs": [
        {
          "output_type": "stream",
          "text": [
            "Digite un número:0\n",
            "Cero\n"
          ],
          "name": "stdout"
        }
      ]
    },
    {
      "cell_type": "code",
      "metadata": {
        "id": "9PWO44AtafLb",
        "colab": {
          "base_uri": "https://localhost:8080/",
          "height": 51
        },
        "outputId": "529b471c-8fd1-426f-e900-401fdc14bc42"
      },
      "source": [
        "semaforo = int(input(\"Digite una opción 1. Verde 2. Amarillo 3. Rojo:\"))\n",
        "\n",
        "if semaforo == 1:\n",
        "  print(\"Siga\")\n",
        "elif semaforo == 2:\n",
        "  print(\"Precaución\")\n",
        "elif semaforo == 3:\n",
        "  print(\"Pare\")\n",
        "else:\n",
        "  print(\"Digitó opción incorrecta\")"
      ],
      "execution_count": null,
      "outputs": [
        {
          "output_type": "stream",
          "text": [
            "Digite una opción 1. Verde 2. Amarillo 3. Rojo:2\n",
            "Precaución\n"
          ],
          "name": "stdout"
        }
      ]
    },
    {
      "cell_type": "code",
      "metadata": {
        "id": "k6hxnhRldnWF",
        "colab": {
          "base_uri": "https://localhost:8080/",
          "height": 51
        },
        "outputId": "b879753f-70cc-49d3-bb59-ca7317b133b7"
      },
      "source": [
        "semaforo = int(input(\"Digite una opción 1. Verde 2. Amarillo 3. Rojo:\"))\n",
        "peaton = input(\"Seleccione una opcion para el peatón si / no:\")\n",
        "\n",
        "peaton=peaton.lower()\n",
        "\n",
        "if semaforo == 1:\n",
        "  if peaton == \"si\":\n",
        "    print(\"Pare\")\n",
        "  else:\n",
        "    print(\"Siga\")\n",
        "elif semaforo == 2:\n",
        "  if peaton == \"si\":\n",
        "    print(\"Pare\")\n",
        "  else:\n",
        "    print(\"Precaución\")  \n",
        "elif semaforo == 3:\n",
        "  print(\"Pare\")\n",
        "else:\n",
        "  print(\"Digitó opción incorrecta\")"
      ],
      "execution_count": null,
      "outputs": [
        {
          "output_type": "stream",
          "text": [
            "Digite una opción 1. Verde 2. Amarillo 3. Rojo:5\n",
            "Seleccione una opcion para el peatón si / no:SI\n"
          ],
          "name": "stdout"
        }
      ]
    }
  ]
}